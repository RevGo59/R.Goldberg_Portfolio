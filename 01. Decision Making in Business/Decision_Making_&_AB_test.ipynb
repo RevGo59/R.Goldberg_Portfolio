{
 "cells": [
  {
   "cell_type": "markdown",
   "metadata": {},
   "source": [
    "# Decision Making in Business"
   ]
  },
  {
   "cell_type": "markdown",
   "metadata": {},
   "source": [
    "**Project Goal**: Prioritize hypotheses to maximize key metrics, analyze A/B test results, state conclusions and recommendations."
   ]
  },
  {
   "cell_type": "code",
   "execution_count": 1,
   "metadata": {},
   "outputs": [],
   "source": [
    "import pandas as pd\n",
    "import numpy as np\n",
    "import seaborn as sns\n",
    "import matplotlib.pyplot as plt\n",
    "import matplotlib.patches as mpatches\n",
    "from scipy import stats as stats\n",
    "from IPython.display import display\n",
    "import pylab as pl\n",
    "from datetime import datetime, timedelta\n",
    "pd.set_option('display.max_colwidth', None)"
   ]
  },
  {
   "cell_type": "markdown",
   "metadata": {},
   "source": [
    "## Hypotheses prioritization"
   ]
  },
  {
   "cell_type": "markdown",
   "metadata": {},
   "source": [
    "### Data Processing and Exploration"
   ]
  },
  {
   "cell_type": "code",
   "execution_count": 2,
   "metadata": {},
   "outputs": [
    {
     "data": {
      "text/html": [
       "<div>\n",
       "<style scoped>\n",
       "    .dataframe tbody tr th:only-of-type {\n",
       "        vertical-align: middle;\n",
       "    }\n",
       "\n",
       "    .dataframe tbody tr th {\n",
       "        vertical-align: top;\n",
       "    }\n",
       "\n",
       "    .dataframe thead th {\n",
       "        text-align: right;\n",
       "    }\n",
       "</style>\n",
       "<table border=\"1\" class=\"dataframe\">\n",
       "  <thead>\n",
       "    <tr style=\"text-align: right;\">\n",
       "      <th></th>\n",
       "      <th>hypothesis</th>\n",
       "      <th>reach</th>\n",
       "      <th>impact</th>\n",
       "      <th>confidence</th>\n",
       "      <th>efforts</th>\n",
       "    </tr>\n",
       "  </thead>\n",
       "  <tbody>\n",
       "    <tr>\n",
       "      <th>0</th>\n",
       "      <td>Добавить два новых канала привлечения трафика, что позволит привлекать на 30% больше пользователей</td>\n",
       "      <td>3</td>\n",
       "      <td>10</td>\n",
       "      <td>8</td>\n",
       "      <td>6</td>\n",
       "    </tr>\n",
       "    <tr>\n",
       "      <th>1</th>\n",
       "      <td>Запустить собственную службу доставки, что сократит срок доставки заказов</td>\n",
       "      <td>2</td>\n",
       "      <td>5</td>\n",
       "      <td>4</td>\n",
       "      <td>10</td>\n",
       "    </tr>\n",
       "    <tr>\n",
       "      <th>2</th>\n",
       "      <td>Добавить блоки рекомендаций товаров на сайт интернет магазина, чтобы повысить конверсию и средний чек заказа</td>\n",
       "      <td>8</td>\n",
       "      <td>3</td>\n",
       "      <td>7</td>\n",
       "      <td>3</td>\n",
       "    </tr>\n",
       "    <tr>\n",
       "      <th>3</th>\n",
       "      <td>Изменить структура категорий, что увеличит конверсию, т.к. пользователи быстрее найдут нужный товар</td>\n",
       "      <td>8</td>\n",
       "      <td>3</td>\n",
       "      <td>3</td>\n",
       "      <td>8</td>\n",
       "    </tr>\n",
       "    <tr>\n",
       "      <th>4</th>\n",
       "      <td>Изменить цвет фона главной страницы, чтобы увеличить вовлеченность пользователей</td>\n",
       "      <td>3</td>\n",
       "      <td>1</td>\n",
       "      <td>1</td>\n",
       "      <td>1</td>\n",
       "    </tr>\n",
       "    <tr>\n",
       "      <th>5</th>\n",
       "      <td>Добавить страницу отзывов клиентов о магазине, что позволит увеличить количество заказов</td>\n",
       "      <td>3</td>\n",
       "      <td>2</td>\n",
       "      <td>2</td>\n",
       "      <td>3</td>\n",
       "    </tr>\n",
       "    <tr>\n",
       "      <th>6</th>\n",
       "      <td>Показать на главной странице баннеры с актуальными акциями и распродажами, чтобы увеличить конверсию</td>\n",
       "      <td>5</td>\n",
       "      <td>3</td>\n",
       "      <td>8</td>\n",
       "      <td>3</td>\n",
       "    </tr>\n",
       "    <tr>\n",
       "      <th>7</th>\n",
       "      <td>Добавить форму подписки на все основные страницы, чтобы собрать базу клиентов для email-рассылок</td>\n",
       "      <td>10</td>\n",
       "      <td>7</td>\n",
       "      <td>8</td>\n",
       "      <td>5</td>\n",
       "    </tr>\n",
       "    <tr>\n",
       "      <th>8</th>\n",
       "      <td>Запустить акцию, дающую скидку на товар в день рождения</td>\n",
       "      <td>1</td>\n",
       "      <td>9</td>\n",
       "      <td>9</td>\n",
       "      <td>5</td>\n",
       "    </tr>\n",
       "  </tbody>\n",
       "</table>\n",
       "</div>"
      ],
      "text/plain": [
       "                                                                                                     hypothesis  \\\n",
       "0            Добавить два новых канала привлечения трафика, что позволит привлекать на 30% больше пользователей   \n",
       "1                                     Запустить собственную службу доставки, что сократит срок доставки заказов   \n",
       "2  Добавить блоки рекомендаций товаров на сайт интернет магазина, чтобы повысить конверсию и средний чек заказа   \n",
       "3           Изменить структура категорий, что увеличит конверсию, т.к. пользователи быстрее найдут нужный товар   \n",
       "4                              Изменить цвет фона главной страницы, чтобы увеличить вовлеченность пользователей   \n",
       "5                      Добавить страницу отзывов клиентов о магазине, что позволит увеличить количество заказов   \n",
       "6          Показать на главной странице баннеры с актуальными акциями и распродажами, чтобы увеличить конверсию   \n",
       "7              Добавить форму подписки на все основные страницы, чтобы собрать базу клиентов для email-рассылок   \n",
       "8                                                       Запустить акцию, дающую скидку на товар в день рождения   \n",
       "\n",
       "   reach  impact  confidence  efforts  \n",
       "0      3      10           8        6  \n",
       "1      2       5           4       10  \n",
       "2      8       3           7        3  \n",
       "3      8       3           3        8  \n",
       "4      3       1           1        1  \n",
       "5      3       2           2        3  \n",
       "6      5       3           8        3  \n",
       "7     10       7           8        5  \n",
       "8      1       9           9        5  "
      ]
     },
     "execution_count": 2,
     "metadata": {},
     "output_type": "execute_result"
    }
   ],
   "source": [
    "hypothesis = pd.read_csv('/datasets/hypothesis.csv')\n",
    "hypothesis.columns = hypothesis.columns.str.lower()\n",
    "hypothesis"
   ]
  },
  {
   "cell_type": "code",
   "execution_count": 3,
   "metadata": {},
   "outputs": [
    {
     "name": "stdout",
     "output_type": "stream",
     "text": [
      "<class 'pandas.core.frame.DataFrame'>\n",
      "RangeIndex: 9 entries, 0 to 8\n",
      "Data columns (total 5 columns):\n",
      " #   Column      Non-Null Count  Dtype \n",
      "---  ------      --------------  ----- \n",
      " 0   hypothesis  9 non-null      object\n",
      " 1   reach       9 non-null      int64 \n",
      " 2   impact      9 non-null      int64 \n",
      " 3   confidence  9 non-null      int64 \n",
      " 4   efforts     9 non-null      int64 \n",
      "dtypes: int64(4), object(1)\n",
      "memory usage: 488.0+ bytes\n"
     ]
    }
   ],
   "source": [
    "hypothesis.info()"
   ]
  },
  {
   "cell_type": "markdown",
   "metadata": {},
   "source": [
    "### RICE"
   ]
  },
  {
   "cell_type": "code",
   "execution_count": 4,
   "metadata": {},
   "outputs": [
    {
     "data": {
      "text/html": [
       "<style  type=\"text/css\" >\n",
       "#T_7563e_row0_col1{\n",
       "            background-color:  #0000ff;\n",
       "            color:  #f1f1f1;\n",
       "        }#T_7563e_row1_col1{\n",
       "            background-color:  #7c7cf9;\n",
       "            color:  #000000;\n",
       "        }#T_7563e_row2_col1,#T_7563e_row3_col1{\n",
       "            background-color:  #9f9ff7;\n",
       "            color:  #000000;\n",
       "        }#T_7563e_row4_col1{\n",
       "            background-color:  #d3d3f4;\n",
       "            color:  #000000;\n",
       "        }#T_7563e_row5_col1{\n",
       "            background-color:  #e3e3f3;\n",
       "            color:  #000000;\n",
       "        }#T_7563e_row6_col1,#T_7563e_row7_col1{\n",
       "            background-color:  #efeff3;\n",
       "            color:  #000000;\n",
       "        }#T_7563e_row8_col1{\n",
       "            background-color:  #f0f0f3;\n",
       "            color:  #000000;\n",
       "        }</style><table id=\"T_7563e_\" ><thead>    <tr>        <th class=\"blank level0\" ></th>        <th class=\"col_heading level0 col0\" >hypothesis</th>        <th class=\"col_heading level0 col1\" >RICE</th>    </tr></thead><tbody>\n",
       "                <tr>\n",
       "                        <th id=\"T_7563e_level0_row0\" class=\"row_heading level0 row0\" >7</th>\n",
       "                        <td id=\"T_7563e_row0_col0\" class=\"data row0 col0\" >Добавить форму подписки на все основные страницы, чтобы собрать базу клиентов для email-рассылок</td>\n",
       "                        <td id=\"T_7563e_row0_col1\" class=\"data row0 col1\" >112.000000</td>\n",
       "            </tr>\n",
       "            <tr>\n",
       "                        <th id=\"T_7563e_level0_row1\" class=\"row_heading level0 row1\" >2</th>\n",
       "                        <td id=\"T_7563e_row1_col0\" class=\"data row1 col0\" >Добавить блоки рекомендаций товаров на сайт интернет магазина, чтобы повысить конверсию и средний чек заказа</td>\n",
       "                        <td id=\"T_7563e_row1_col1\" class=\"data row1 col1\" >56.000000</td>\n",
       "            </tr>\n",
       "            <tr>\n",
       "                        <th id=\"T_7563e_level0_row2\" class=\"row_heading level0 row2\" >0</th>\n",
       "                        <td id=\"T_7563e_row2_col0\" class=\"data row2 col0\" >Добавить два новых канала привлечения трафика, что позволит привлекать на 30% больше пользователей</td>\n",
       "                        <td id=\"T_7563e_row2_col1\" class=\"data row2 col1\" >40.000000</td>\n",
       "            </tr>\n",
       "            <tr>\n",
       "                        <th id=\"T_7563e_level0_row3\" class=\"row_heading level0 row3\" >6</th>\n",
       "                        <td id=\"T_7563e_row3_col0\" class=\"data row3 col0\" >Показать на главной странице баннеры с актуальными акциями и распродажами, чтобы увеличить конверсию</td>\n",
       "                        <td id=\"T_7563e_row3_col1\" class=\"data row3 col1\" >40.000000</td>\n",
       "            </tr>\n",
       "            <tr>\n",
       "                        <th id=\"T_7563e_level0_row4\" class=\"row_heading level0 row4\" >8</th>\n",
       "                        <td id=\"T_7563e_row4_col0\" class=\"data row4 col0\" >Запустить акцию, дающую скидку на товар в день рождения</td>\n",
       "                        <td id=\"T_7563e_row4_col1\" class=\"data row4 col1\" >16.200000</td>\n",
       "            </tr>\n",
       "            <tr>\n",
       "                        <th id=\"T_7563e_level0_row5\" class=\"row_heading level0 row5\" >3</th>\n",
       "                        <td id=\"T_7563e_row5_col0\" class=\"data row5 col0\" >Изменить структура категорий, что увеличит конверсию, т.к. пользователи быстрее найдут нужный товар</td>\n",
       "                        <td id=\"T_7563e_row5_col1\" class=\"data row5 col1\" >9.000000</td>\n",
       "            </tr>\n",
       "            <tr>\n",
       "                        <th id=\"T_7563e_level0_row6\" class=\"row_heading level0 row6\" >1</th>\n",
       "                        <td id=\"T_7563e_row6_col0\" class=\"data row6 col0\" >Запустить собственную службу доставки, что сократит срок доставки заказов</td>\n",
       "                        <td id=\"T_7563e_row6_col1\" class=\"data row6 col1\" >4.000000</td>\n",
       "            </tr>\n",
       "            <tr>\n",
       "                        <th id=\"T_7563e_level0_row7\" class=\"row_heading level0 row7\" >5</th>\n",
       "                        <td id=\"T_7563e_row7_col0\" class=\"data row7 col0\" >Добавить страницу отзывов клиентов о магазине, что позволит увеличить количество заказов</td>\n",
       "                        <td id=\"T_7563e_row7_col1\" class=\"data row7 col1\" >4.000000</td>\n",
       "            </tr>\n",
       "            <tr>\n",
       "                        <th id=\"T_7563e_level0_row8\" class=\"row_heading level0 row8\" >4</th>\n",
       "                        <td id=\"T_7563e_row8_col0\" class=\"data row8 col0\" >Изменить цвет фона главной страницы, чтобы увеличить вовлеченность пользователей</td>\n",
       "                        <td id=\"T_7563e_row8_col1\" class=\"data row8 col1\" >3.000000</td>\n",
       "            </tr>\n",
       "    </tbody></table>"
      ],
      "text/plain": [
       "<pandas.io.formats.style.Styler at 0x7fddf4d82eb0>"
      ]
     },
     "execution_count": 4,
     "metadata": {},
     "output_type": "execute_result"
    }
   ],
   "source": [
    "hypothesis['RICE'] = (hypothesis['reach']*hypothesis['impact']*hypothesis['confidence'])/hypothesis['efforts']\n",
    "rice_hypothesis = (hypothesis[['hypothesis','RICE']]).sort_values(by='RICE', ascending=False)\n",
    "cm = sns.light_palette(\"blue\", as_cmap=True)\n",
    "rice_hypothesis.style.background_gradient(cmap=cm)"
   ]
  },
  {
   "cell_type": "code",
   "execution_count": 5,
   "metadata": {},
   "outputs": [
    {
     "data": {
      "image/png": "[encoded data removed]",
      "text/plain": [
       "<Figure size 720x360 with 1 Axes>"
      ]
     },
     "metadata": {
      "needs_background": "light"
     },
     "output_type": "display_data"
    }
   ],
   "source": [
    "rice_hypothesis.plot(y='RICE', kind='bar', figsize=(10, 5), xlabel=\"Hypothesis\", ylabel=\"RICE\", color=\"lightblue\", title=\"RICE assessment\", legend=False);"
   ]
  },
  {
   "cell_type": "markdown",
   "metadata": {},
   "source": [
    "Hypothesis #7 has the highest RICE assessment, thus it should be the one to test."
   ]
  },
  {
   "cell_type": "markdown",
   "metadata": {},
   "source": [
    "## A/B test analysis"
   ]
  },
  {
   "cell_type": "markdown",
   "metadata": {},
   "source": [
    "### Data Processing and Exploration"
   ]
  },
  {
   "cell_type": "markdown",
   "metadata": {},
   "source": [
    "#### Orders"
   ]
  },
  {
   "cell_type": "code",
   "execution_count": 6,
   "metadata": {},
   "outputs": [
    {
     "data": {
      "text/html": [
       "<div>\n",
       "<style scoped>\n",
       "    .dataframe tbody tr th:only-of-type {\n",
       "        vertical-align: middle;\n",
       "    }\n",
       "\n",
       "    .dataframe tbody tr th {\n",
       "        vertical-align: top;\n",
       "    }\n",
       "\n",
       "    .dataframe thead th {\n",
       "        text-align: right;\n",
       "    }\n",
       "</style>\n",
       "<table border=\"1\" class=\"dataframe\">\n",
       "  <thead>\n",
       "    <tr style=\"text-align: right;\">\n",
       "      <th></th>\n",
       "      <th>transaction_id</th>\n",
       "      <th>visitor_id</th>\n",
       "      <th>date</th>\n",
       "      <th>revenue</th>\n",
       "      <th>group</th>\n",
       "    </tr>\n",
       "  </thead>\n",
       "  <tbody>\n",
       "    <tr>\n",
       "      <th>0</th>\n",
       "      <td>3667963787</td>\n",
       "      <td>3312258926</td>\n",
       "      <td>2019-08-15</td>\n",
       "      <td>1650</td>\n",
       "      <td>B</td>\n",
       "    </tr>\n",
       "    <tr>\n",
       "      <th>1</th>\n",
       "      <td>2804400009</td>\n",
       "      <td>3642806036</td>\n",
       "      <td>2019-08-15</td>\n",
       "      <td>730</td>\n",
       "      <td>B</td>\n",
       "    </tr>\n",
       "    <tr>\n",
       "      <th>2</th>\n",
       "      <td>2961555356</td>\n",
       "      <td>4069496402</td>\n",
       "      <td>2019-08-15</td>\n",
       "      <td>400</td>\n",
       "      <td>A</td>\n",
       "    </tr>\n",
       "    <tr>\n",
       "      <th>3</th>\n",
       "      <td>3797467345</td>\n",
       "      <td>1196621759</td>\n",
       "      <td>2019-08-15</td>\n",
       "      <td>9759</td>\n",
       "      <td>B</td>\n",
       "    </tr>\n",
       "    <tr>\n",
       "      <th>4</th>\n",
       "      <td>2282983706</td>\n",
       "      <td>2322279887</td>\n",
       "      <td>2019-08-15</td>\n",
       "      <td>2308</td>\n",
       "      <td>B</td>\n",
       "    </tr>\n",
       "    <tr>\n",
       "      <th>5</th>\n",
       "      <td>182168103</td>\n",
       "      <td>935554773</td>\n",
       "      <td>2019-08-15</td>\n",
       "      <td>2210</td>\n",
       "      <td>B</td>\n",
       "    </tr>\n",
       "    <tr>\n",
       "      <th>6</th>\n",
       "      <td>398296753</td>\n",
       "      <td>2900797465</td>\n",
       "      <td>2019-08-15</td>\n",
       "      <td>1860</td>\n",
       "      <td>B</td>\n",
       "    </tr>\n",
       "    <tr>\n",
       "      <th>7</th>\n",
       "      <td>2626614568</td>\n",
       "      <td>78758296</td>\n",
       "      <td>2019-08-15</td>\n",
       "      <td>1044</td>\n",
       "      <td>A</td>\n",
       "    </tr>\n",
       "    <tr>\n",
       "      <th>8</th>\n",
       "      <td>1576988021</td>\n",
       "      <td>295230930</td>\n",
       "      <td>2019-08-15</td>\n",
       "      <td>13710</td>\n",
       "      <td>A</td>\n",
       "    </tr>\n",
       "    <tr>\n",
       "      <th>9</th>\n",
       "      <td>1506739906</td>\n",
       "      <td>1882260405</td>\n",
       "      <td>2019-08-15</td>\n",
       "      <td>1855</td>\n",
       "      <td>B</td>\n",
       "    </tr>\n",
       "  </tbody>\n",
       "</table>\n",
       "</div>"
      ],
      "text/plain": [
       "   transaction_id  visitor_id        date  revenue group\n",
       "0      3667963787  3312258926  2019-08-15     1650     B\n",
       "1      2804400009  3642806036  2019-08-15      730     B\n",
       "2      2961555356  4069496402  2019-08-15      400     A\n",
       "3      3797467345  1196621759  2019-08-15     9759     B\n",
       "4      2282983706  2322279887  2019-08-15     2308     B\n",
       "5       182168103   935554773  2019-08-15     2210     B\n",
       "6       398296753  2900797465  2019-08-15     1860     B\n",
       "7      2626614568    78758296  2019-08-15     1044     A\n",
       "8      1576988021   295230930  2019-08-15    13710     A\n",
       "9      1506739906  1882260405  2019-08-15     1855     B"
      ]
     },
     "execution_count": 6,
     "metadata": {},
     "output_type": "execute_result"
    }
   ],
   "source": [
    "orders = pd.read_csv('/datasets/orders.csv')\n",
    "orders.columns = ['transaction_id', 'visitor_id', 'date', 'revenue', 'group']\n",
    "orders.head(10)"
   ]
  },
  {
   "cell_type": "code",
   "execution_count": 7,
   "metadata": {},
   "outputs": [
    {
     "name": "stdout",
     "output_type": "stream",
     "text": [
      "<class 'pandas.core.frame.DataFrame'>\n",
      "RangeIndex: 1197 entries, 0 to 1196\n",
      "Data columns (total 5 columns):\n",
      " #   Column          Non-Null Count  Dtype \n",
      "---  ------          --------------  ----- \n",
      " 0   transaction_id  1197 non-null   int64 \n",
      " 1   visitor_id      1197 non-null   int64 \n",
      " 2   date            1197 non-null   object\n",
      " 3   revenue         1197 non-null   int64 \n",
      " 4   group           1197 non-null   object\n",
      "dtypes: int64(3), object(2)\n",
      "memory usage: 46.9+ KB\n"
     ]
    }
   ],
   "source": [
    "orders.info()"
   ]
  },
  {
   "cell_type": "code",
   "execution_count": 8,
   "metadata": {},
   "outputs": [],
   "source": [
    "orders['date'] = pd.to_datetime(orders['date'])"
   ]
  },
  {
   "cell_type": "code",
   "execution_count": 9,
   "metadata": {},
   "outputs": [
    {
     "name": "stdout",
     "output_type": "stream",
     "text": [
      "<class 'pandas.core.frame.DataFrame'>\n",
      "RangeIndex: 1197 entries, 0 to 1196\n",
      "Data columns (total 5 columns):\n",
      " #   Column          Non-Null Count  Dtype         \n",
      "---  ------          --------------  -----         \n",
      " 0   transaction_id  1197 non-null   int64         \n",
      " 1   visitor_id      1197 non-null   int64         \n",
      " 2   date            1197 non-null   datetime64[ns]\n",
      " 3   revenue         1197 non-null   int64         \n",
      " 4   group           1197 non-null   object        \n",
      "dtypes: datetime64[ns](1), int64(3), object(1)\n",
      "memory usage: 46.9+ KB\n"
     ]
    }
   ],
   "source": [
    "orders.info()"
   ]
  },
  {
   "cell_type": "code",
   "execution_count": 10,
   "metadata": {},
   "outputs": [
    {
     "name": "stdout",
     "output_type": "stream",
     "text": [
      "Duplicated lines detected  - 0\n",
      "Duplicated orders detected - 0\n"
     ]
    }
   ],
   "source": [
    "print('Duplicated lines detected  -', orders.duplicated().sum())\n",
    "print('Duplicated orders detected -',orders['transaction_id'].duplicated().sum())"
   ]
  },
  {
   "cell_type": "code",
   "execution_count": 11,
   "metadata": {},
   "outputs": [
    {
     "data": {
      "text/plain": [
       "array(['B', 'A'], dtype=object)"
      ]
     },
     "execution_count": 11,
     "metadata": {},
     "output_type": "execute_result"
    }
   ],
   "source": [
    "orders['group'].unique()"
   ]
  },
  {
   "cell_type": "code",
   "execution_count": 12,
   "metadata": {},
   "outputs": [
    {
     "name": "stdout",
     "output_type": "stream",
     "text": [
      "Timeframe 2019-08-01 00:00:00 - 2019-08-31 00:00:00\n"
     ]
    }
   ],
   "source": [
    "print('Timeframe', min(orders['date']), '-', max(orders['date']))"
   ]
  },
  {
   "cell_type": "markdown",
   "metadata": {},
   "source": [
    "#### Visitors"
   ]
  },
  {
   "cell_type": "code",
   "execution_count": 13,
   "metadata": {},
   "outputs": [
    {
     "data": {
      "text/html": [
       "<div>\n",
       "<style scoped>\n",
       "    .dataframe tbody tr th:only-of-type {\n",
       "        vertical-align: middle;\n",
       "    }\n",
       "\n",
       "    .dataframe tbody tr th {\n",
       "        vertical-align: top;\n",
       "    }\n",
       "\n",
       "    .dataframe thead th {\n",
       "        text-align: right;\n",
       "    }\n",
       "</style>\n",
       "<table border=\"1\" class=\"dataframe\">\n",
       "  <thead>\n",
       "    <tr style=\"text-align: right;\">\n",
       "      <th></th>\n",
       "      <th>date</th>\n",
       "      <th>group</th>\n",
       "      <th>visitors</th>\n",
       "    </tr>\n",
       "  </thead>\n",
       "  <tbody>\n",
       "    <tr>\n",
       "      <th>0</th>\n",
       "      <td>2019-08-01</td>\n",
       "      <td>A</td>\n",
       "      <td>719</td>\n",
       "    </tr>\n",
       "    <tr>\n",
       "      <th>1</th>\n",
       "      <td>2019-08-02</td>\n",
       "      <td>A</td>\n",
       "      <td>619</td>\n",
       "    </tr>\n",
       "    <tr>\n",
       "      <th>2</th>\n",
       "      <td>2019-08-03</td>\n",
       "      <td>A</td>\n",
       "      <td>507</td>\n",
       "    </tr>\n",
       "    <tr>\n",
       "      <th>3</th>\n",
       "      <td>2019-08-04</td>\n",
       "      <td>A</td>\n",
       "      <td>717</td>\n",
       "    </tr>\n",
       "    <tr>\n",
       "      <th>4</th>\n",
       "      <td>2019-08-05</td>\n",
       "      <td>A</td>\n",
       "      <td>756</td>\n",
       "    </tr>\n",
       "    <tr>\n",
       "      <th>5</th>\n",
       "      <td>2019-08-06</td>\n",
       "      <td>A</td>\n",
       "      <td>667</td>\n",
       "    </tr>\n",
       "    <tr>\n",
       "      <th>6</th>\n",
       "      <td>2019-08-07</td>\n",
       "      <td>A</td>\n",
       "      <td>644</td>\n",
       "    </tr>\n",
       "    <tr>\n",
       "      <th>7</th>\n",
       "      <td>2019-08-08</td>\n",
       "      <td>A</td>\n",
       "      <td>610</td>\n",
       "    </tr>\n",
       "    <tr>\n",
       "      <th>8</th>\n",
       "      <td>2019-08-09</td>\n",
       "      <td>A</td>\n",
       "      <td>617</td>\n",
       "    </tr>\n",
       "    <tr>\n",
       "      <th>9</th>\n",
       "      <td>2019-08-10</td>\n",
       "      <td>A</td>\n",
       "      <td>406</td>\n",
       "    </tr>\n",
       "  </tbody>\n",
       "</table>\n",
       "</div>"
      ],
      "text/plain": [
       "         date group  visitors\n",
       "0  2019-08-01     A       719\n",
       "1  2019-08-02     A       619\n",
       "2  2019-08-03     A       507\n",
       "3  2019-08-04     A       717\n",
       "4  2019-08-05     A       756\n",
       "5  2019-08-06     A       667\n",
       "6  2019-08-07     A       644\n",
       "7  2019-08-08     A       610\n",
       "8  2019-08-09     A       617\n",
       "9  2019-08-10     A       406"
      ]
     },
     "execution_count": 13,
     "metadata": {},
     "output_type": "execute_result"
    }
   ],
   "source": [
    "visitors = pd.read_csv('/datasets/visitors.csv')\n",
    "visitors.head(10)"
   ]
  },
  {
   "cell_type": "code",
   "execution_count": 14,
   "metadata": {},
   "outputs": [
    {
     "name": "stdout",
     "output_type": "stream",
     "text": [
      "<class 'pandas.core.frame.DataFrame'>\n",
      "RangeIndex: 62 entries, 0 to 61\n",
      "Data columns (total 3 columns):\n",
      " #   Column    Non-Null Count  Dtype \n",
      "---  ------    --------------  ----- \n",
      " 0   date      62 non-null     object\n",
      " 1   group     62 non-null     object\n",
      " 2   visitors  62 non-null     int64 \n",
      "dtypes: int64(1), object(2)\n",
      "memory usage: 1.6+ KB\n"
     ]
    }
   ],
   "source": [
    "visitors.info()"
   ]
  },
  {
   "cell_type": "code",
   "execution_count": 15,
   "metadata": {},
   "outputs": [],
   "source": [
    "visitors['date'] = pd.to_datetime(visitors['date'])"
   ]
  },
  {
   "cell_type": "code",
   "execution_count": 16,
   "metadata": {},
   "outputs": [
    {
     "name": "stdout",
     "output_type": "stream",
     "text": [
      "<class 'pandas.core.frame.DataFrame'>\n",
      "RangeIndex: 62 entries, 0 to 61\n",
      "Data columns (total 3 columns):\n",
      " #   Column    Non-Null Count  Dtype         \n",
      "---  ------    --------------  -----         \n",
      " 0   date      62 non-null     datetime64[ns]\n",
      " 1   group     62 non-null     object        \n",
      " 2   visitors  62 non-null     int64         \n",
      "dtypes: datetime64[ns](1), int64(1), object(1)\n",
      "memory usage: 1.6+ KB\n"
     ]
    }
   ],
   "source": [
    "visitors.info()"
   ]
  },
  {
   "cell_type": "code",
   "execution_count": 17,
   "metadata": {},
   "outputs": [
    {
     "name": "stdout",
     "output_type": "stream",
     "text": [
      "Duplicated lines detected - 0\n",
      "Duplicated data detected - 0\n"
     ]
    }
   ],
   "source": [
    "print('Duplicated lines detected -', visitors.duplicated().sum())\n",
    "visitors_duplicates = visitors[visitors.duplicated(['date', 'group'])]\n",
    "print('Duplicated data detected -', visitors_duplicates.shape[0])"
   ]
  },
  {
   "cell_type": "code",
   "execution_count": 18,
   "metadata": {},
   "outputs": [
    {
     "data": {
      "text/plain": [
       "array(['A', 'B'], dtype=object)"
      ]
     },
     "execution_count": 18,
     "metadata": {},
     "output_type": "execute_result"
    }
   ],
   "source": [
    "visitors['group'].unique()"
   ]
  },
  {
   "cell_type": "code",
   "execution_count": 19,
   "metadata": {},
   "outputs": [
    {
     "name": "stdout",
     "output_type": "stream",
     "text": [
      "Timframe 2019-08-01 00:00:00 - 2019-08-31 00:00:00\n"
     ]
    }
   ],
   "source": [
    "print('Timframe', min(visitors['date']), '-', max(visitors['date']))"
   ]
  },
  {
   "cell_type": "markdown",
   "metadata": {},
   "source": [
    "#### Grouping validation"
   ]
  },
  {
   "cell_type": "code",
   "execution_count": 20,
   "metadata": {},
   "outputs": [
    {
     "data": {
      "text/html": [
       "<div>\n",
       "<style scoped>\n",
       "    .dataframe tbody tr th:only-of-type {\n",
       "        vertical-align: middle;\n",
       "    }\n",
       "\n",
       "    .dataframe tbody tr th {\n",
       "        vertical-align: top;\n",
       "    }\n",
       "\n",
       "    .dataframe thead th {\n",
       "        text-align: right;\n",
       "    }\n",
       "</style>\n",
       "<table border=\"1\" class=\"dataframe\">\n",
       "  <thead>\n",
       "    <tr style=\"text-align: right;\">\n",
       "      <th></th>\n",
       "      <th>Group</th>\n",
       "      <th>Number of users</th>\n",
       "    </tr>\n",
       "  </thead>\n",
       "  <tbody>\n",
       "    <tr>\n",
       "      <th>0</th>\n",
       "      <td>A</td>\n",
       "      <td>503</td>\n",
       "    </tr>\n",
       "    <tr>\n",
       "      <th>1</th>\n",
       "      <td>B</td>\n",
       "      <td>586</td>\n",
       "    </tr>\n",
       "  </tbody>\n",
       "</table>\n",
       "</div>"
      ],
      "text/plain": [
       "  Group  Number of users\n",
       "0     A              503\n",
       "1     B              586"
      ]
     },
     "execution_count": 20,
     "metadata": {},
     "output_type": "execute_result"
    }
   ],
   "source": [
    "number_users = orders.groupby('group')['visitor_id'].nunique().reset_index()\n",
    "number_users.columns = ['Group', 'Number of users']\n",
    "number_users"
   ]
  },
  {
   "cell_type": "code",
   "execution_count": 21,
   "metadata": {},
   "outputs": [
    {
     "name": "stdout",
     "output_type": "stream",
     "text": [
      "Number of unique users in Group A : 503\n"
     ]
    }
   ],
   "source": [
    "orders_a = orders.query('group==\"A\"')\n",
    "print('Number of unique users in Group A :', orders_a['visitor_id'].nunique())\n",
    "orders_a_visitors = orders_a['visitor_id'].unique ()"
   ]
  },
  {
   "cell_type": "code",
   "execution_count": 22,
   "metadata": {},
   "outputs": [
    {
     "name": "stdout",
     "output_type": "stream",
     "text": [
      "Number of unique users in Group B: 586\n"
     ]
    }
   ],
   "source": [
    "orders_b = orders.query('group==\"B\"')\n",
    "print('Number of unique users in Group B:', orders_b['visitor_id'].nunique())\n",
    "orders_b_visitors = orders_b['visitor_id'].unique ()"
   ]
  },
  {
   "cell_type": "code",
   "execution_count": 23,
   "metadata": {},
   "outputs": [
    {
     "name": "stdout",
     "output_type": "stream",
     "text": [
      "Number of users detected either in group A and in Group B: 58\n"
     ]
    }
   ],
   "source": [
    "intersection_visitors = list(set(orders_a_visitors).intersection(orders_b_visitors))\n",
    "print('Number of users detected either in group A and in Group B:', len(intersection_visitors))"
   ]
  },
  {
   "cell_type": "code",
   "execution_count": 24,
   "metadata": {},
   "outputs": [
    {
     "data": {
      "text/html": [
       "<div>\n",
       "<style scoped>\n",
       "    .dataframe tbody tr th:only-of-type {\n",
       "        vertical-align: middle;\n",
       "    }\n",
       "\n",
       "    .dataframe tbody tr th {\n",
       "        vertical-align: top;\n",
       "    }\n",
       "\n",
       "    .dataframe thead th {\n",
       "        text-align: right;\n",
       "    }\n",
       "</style>\n",
       "<table border=\"1\" class=\"dataframe\">\n",
       "  <thead>\n",
       "    <tr style=\"text-align: right;\">\n",
       "      <th></th>\n",
       "      <th>transaction_id</th>\n",
       "      <th>visitor_id</th>\n",
       "      <th>date</th>\n",
       "      <th>revenue</th>\n",
       "      <th>group</th>\n",
       "    </tr>\n",
       "  </thead>\n",
       "  <tbody>\n",
       "    <tr>\n",
       "      <th>0</th>\n",
       "      <td>3667963787</td>\n",
       "      <td>3312258926</td>\n",
       "      <td>2019-08-15</td>\n",
       "      <td>1650</td>\n",
       "      <td>B</td>\n",
       "    </tr>\n",
       "    <tr>\n",
       "      <th>1</th>\n",
       "      <td>2804400009</td>\n",
       "      <td>3642806036</td>\n",
       "      <td>2019-08-15</td>\n",
       "      <td>730</td>\n",
       "      <td>B</td>\n",
       "    </tr>\n",
       "    <tr>\n",
       "      <th>3</th>\n",
       "      <td>3797467345</td>\n",
       "      <td>1196621759</td>\n",
       "      <td>2019-08-15</td>\n",
       "      <td>9759</td>\n",
       "      <td>B</td>\n",
       "    </tr>\n",
       "    <tr>\n",
       "      <th>4</th>\n",
       "      <td>2282983706</td>\n",
       "      <td>2322279887</td>\n",
       "      <td>2019-08-15</td>\n",
       "      <td>2308</td>\n",
       "      <td>B</td>\n",
       "    </tr>\n",
       "    <tr>\n",
       "      <th>5</th>\n",
       "      <td>182168103</td>\n",
       "      <td>935554773</td>\n",
       "      <td>2019-08-15</td>\n",
       "      <td>2210</td>\n",
       "      <td>B</td>\n",
       "    </tr>\n",
       "    <tr>\n",
       "      <th>6</th>\n",
       "      <td>398296753</td>\n",
       "      <td>2900797465</td>\n",
       "      <td>2019-08-15</td>\n",
       "      <td>1860</td>\n",
       "      <td>B</td>\n",
       "    </tr>\n",
       "    <tr>\n",
       "      <th>7</th>\n",
       "      <td>2626614568</td>\n",
       "      <td>78758296</td>\n",
       "      <td>2019-08-15</td>\n",
       "      <td>1044</td>\n",
       "      <td>A</td>\n",
       "    </tr>\n",
       "    <tr>\n",
       "      <th>8</th>\n",
       "      <td>1576988021</td>\n",
       "      <td>295230930</td>\n",
       "      <td>2019-08-15</td>\n",
       "      <td>13710</td>\n",
       "      <td>A</td>\n",
       "    </tr>\n",
       "    <tr>\n",
       "      <th>9</th>\n",
       "      <td>1506739906</td>\n",
       "      <td>1882260405</td>\n",
       "      <td>2019-08-15</td>\n",
       "      <td>1855</td>\n",
       "      <td>B</td>\n",
       "    </tr>\n",
       "    <tr>\n",
       "      <th>10</th>\n",
       "      <td>3649131742</td>\n",
       "      <td>879864040</td>\n",
       "      <td>2019-08-15</td>\n",
       "      <td>4008</td>\n",
       "      <td>A</td>\n",
       "    </tr>\n",
       "  </tbody>\n",
       "</table>\n",
       "</div>"
      ],
      "text/plain": [
       "    transaction_id  visitor_id       date  revenue group\n",
       "0       3667963787  3312258926 2019-08-15     1650     B\n",
       "1       2804400009  3642806036 2019-08-15      730     B\n",
       "3       3797467345  1196621759 2019-08-15     9759     B\n",
       "4       2282983706  2322279887 2019-08-15     2308     B\n",
       "5        182168103   935554773 2019-08-15     2210     B\n",
       "6        398296753  2900797465 2019-08-15     1860     B\n",
       "7       2626614568    78758296 2019-08-15     1044     A\n",
       "8       1576988021   295230930 2019-08-15    13710     A\n",
       "9       1506739906  1882260405 2019-08-15     1855     B\n",
       "10      3649131742   879864040 2019-08-15     4008     A"
      ]
     },
     "execution_count": 24,
     "metadata": {},
     "output_type": "execute_result"
    }
   ],
   "source": [
    "orders_new = orders[orders.visitor_id.isin(intersection_visitors) == False]\n",
    "orders_new.head(10)"
   ]
  },
  {
   "cell_type": "code",
   "execution_count": 25,
   "metadata": {},
   "outputs": [
    {
     "name": "stdout",
     "output_type": "stream",
     "text": [
      "<class 'pandas.core.frame.DataFrame'>\n",
      "Int64Index: 1016 entries, 0 to 1196\n",
      "Data columns (total 5 columns):\n",
      " #   Column          Non-Null Count  Dtype         \n",
      "---  ------          --------------  -----         \n",
      " 0   transaction_id  1016 non-null   int64         \n",
      " 1   visitor_id      1016 non-null   int64         \n",
      " 2   date            1016 non-null   datetime64[ns]\n",
      " 3   revenue         1016 non-null   int64         \n",
      " 4   group           1016 non-null   object        \n",
      "dtypes: datetime64[ns](1), int64(3), object(1)\n",
      "memory usage: 47.6+ KB\n"
     ]
    }
   ],
   "source": [
    "orders_new.info()"
   ]
  },
  {
   "cell_type": "markdown",
   "metadata": {},
   "source": [
    "### Сumulative Revenue by groups"
   ]
  },
  {
   "cell_type": "code",
   "execution_count": 26,
   "metadata": {},
   "outputs": [
    {
     "data": {
      "image/png": "[encoded data removed]",
      "text/plain": [
       "<Figure size 720x360 with 1 Axes>"
      ]
     },
     "metadata": {
      "needs_background": "light"
     },
     "output_type": "display_data"
    }
   ],
   "source": [
    "datesGroups = orders[['date', 'group']].drop_duplicates()\n",
    "ordersAggregated = datesGroups.apply(lambda x: orders[np.logical_and(orders['date'] <= x['date'], orders['group'] == x['group'])] \\\n",
    ".agg({'date': 'max', 'group': 'max', 'transaction_id': 'nunique', 'visitor_id': 'nunique', 'revenue': 'sum'}), axis=1).sort_values(by=['date','group'])\n",
    "visitorsAggregated = datesGroups.apply(lambda x: visitors[np.logical_and(visitors['date'] <= x['date'], visitors['group'] == x['group'])] \\\n",
    "                                       .agg({'date': 'max', 'group': 'max', 'visitors': 'sum'}), axis=1).sort_values(by=['date','group'])\n",
    "cumulativeData = ordersAggregated.merge(visitorsAggregated, left_on=['date', 'group'], right_on=['date', 'group'])\n",
    "cumulativeData.columns = ['date', 'group', 'orders', 'buyers', 'revenue', 'visitors']\n",
    "cumulativeRevenueA = cumulativeData[cumulativeData['group'] == 'A'][['date','revenue', 'orders']]\n",
    "cumulativeRevenueB = cumulativeData[cumulativeData['group'] == 'B'][['date','revenue', 'orders']]\n",
    "plt.figure(figsize=(10,5))\n",
    "plt.plot(cumulativeRevenueA['date'], cumulativeRevenueA['revenue'], label='A')\n",
    "plt.plot(cumulativeRevenueB['date'], cumulativeRevenueB['revenue'], label='B')\n",
    "plt.grid()\n",
    "plt.xticks(rotation=45)\n",
    "plt.ylabel('Revenue')\n",
    "plt.xlabel('Date')\n",
    "plt.title('Сumulative Revenue by groups')\n",
    "plt.legend();"
   ]
  },
  {
   "cell_type": "markdown",
   "metadata": {},
   "source": [
    "### Сumulative Average check by groups"
   ]
  },
  {
   "cell_type": "code",
   "execution_count": 27,
   "metadata": {},
   "outputs": [
    {
     "data": {
      "image/png": "[encoded data removed]",
      "text/plain": [
       "<Figure size 720x360 with 1 Axes>"
      ]
     },
     "metadata": {
      "needs_background": "light"
     },
     "output_type": "display_data"
    }
   ],
   "source": [
    "plt.figure(figsize=(10,5))\n",
    "plt.plot(cumulativeRevenueA['date'], cumulativeRevenueA['revenue'] / cumulativeRevenueA['orders'], label='A')\n",
    "plt.plot(cumulativeRevenueB['date'], cumulativeRevenueB['revenue'] / cumulativeRevenueB['orders'], label='B')\n",
    "plt.grid()\n",
    "plt.xticks(rotation=45)\n",
    "plt.ylabel('Average check')\n",
    "plt.xlabel('Date')\n",
    "plt.title('Сumulative Average check by groups')\n",
    "plt.legend();"
   ]
  },
  {
   "cell_type": "markdown",
   "metadata": {},
   "source": [
    "### Сumulative Average check Relative variation"
   ]
  },
  {
   "cell_type": "code",
   "execution_count": 28,
   "metadata": {},
   "outputs": [
    {
     "data": {
      "image/png": "[encoded data removed]",
      "text/plain": [
       "<Figure size 720x360 with 1 Axes>"
      ]
     },
     "metadata": {
      "needs_background": "light"
     },
     "output_type": "display_data"
    }
   ],
   "source": [
    "mergedCumulativeRevenue = cumulativeRevenueA.merge(cumulativeRevenueB, left_on='date', right_on='date', how='left', suffixes=['A', 'B'])\n",
    "plt.figure(figsize=(10,5))\n",
    "plt.plot(mergedCumulativeRevenue['date'], (mergedCumulativeRevenue['revenueB'] / mergedCumulativeRevenue['ordersB']) /\n",
    "         (mergedCumulativeRevenue['revenueA'] / mergedCumulativeRevenue['ordersA'])-1)\n",
    "plt.grid()\n",
    "plt.axhline(y=0, color='black', linestyle='--')\n",
    "plt.xticks(rotation=45)\n",
    "plt.ylabel('Percentage difference')\n",
    "plt.xlabel('Date')\n",
    "plt.title('Сumulative Average check Relative variation (Group B to Group A)');"
   ]
  },
  {
   "cell_type": "markdown",
   "metadata": {},
   "source": [
    "### Сumulative Average orders number per user by groups"
   ]
  },
  {
   "cell_type": "code",
   "execution_count": 29,
   "metadata": {},
   "outputs": [
    {
     "data": {
      "image/png": "[encoded data removed]",
      "text/plain": [
       "<Figure size 720x360 with 1 Axes>"
      ]
     },
     "metadata": {
      "needs_background": "light"
     },
     "output_type": "display_data"
    }
   ],
   "source": [
    "cumulativeData['conversion'] = cumulativeData['orders'] / cumulativeData['visitors']\n",
    "cumulativeDataA = cumulativeData[cumulativeData['group'] == 'A']\n",
    "cumulativeDataB = cumulativeData[cumulativeData['group'] == 'B']\n",
    "plt.figure(figsize=(10,5))\n",
    "plt.plot(cumulativeDataA['date'], cumulativeDataA['conversion'], label='A')\n",
    "plt.plot(cumulativeDataB['date'], cumulativeDataB['conversion'], label='B')\n",
    "plt.grid()\n",
    "plt.xticks(rotation=45)\n",
    "plt.ylabel('Conversion')\n",
    "plt.xlabel('Data')\n",
    "plt.title('Сumulative Average orders number per user by groups')\n",
    "plt.legend();"
   ]
  },
  {
   "cell_type": "markdown",
   "metadata": {},
   "source": [
    "### Сumulative average orders number per user Relative variation"
   ]
  },
  {
   "cell_type": "code",
   "execution_count": 30,
   "metadata": {},
   "outputs": [
    {
     "data": {
      "image/png": "[encoded data removed]",
      "text/plain": [
       "<Figure size 720x360 with 1 Axes>"
      ]
     },
     "metadata": {
      "needs_background": "light"
     },
     "output_type": "display_data"
    }
   ],
   "source": [
    "# Объединим данные\n",
    "mergedCumulativeConversions = cumulativeDataA[['date', 'conversion']].merge(cumulativeDataB[['date', 'conversion']], left_on='date',\n",
    "                                                                            right_on='date', how='left', suffixes=['A', 'B'])\n",
    "\n",
    "# Построим график\n",
    "plt.figure(figsize=(10,5))\n",
    "plt.plot(mergedCumulativeConversions['date'], mergedCumulativeConversions['conversionB'] /\n",
    "         mergedCumulativeConversions['conversionA']-1)\n",
    "plt.grid()\n",
    "plt.axhline(y=0, color='black', linestyle='--')\n",
    "plt.xticks(rotation=45)\n",
    "plt.ylabel('Относительное различие')\n",
    "plt.xlabel('Дата')\n",
    "plt.title('Сumulative average orders number per user Relative variation (Group B to Group A)');"
   ]
  },
  {
   "cell_type": "markdown",
   "metadata": {},
   "source": [
    "### Number of Orders"
   ]
  },
  {
   "cell_type": "code",
   "execution_count": 31,
   "metadata": {},
   "outputs": [
    {
     "data": {
      "text/html": [
       "<div>\n",
       "<style scoped>\n",
       "    .dataframe tbody tr th:only-of-type {\n",
       "        vertical-align: middle;\n",
       "    }\n",
       "\n",
       "    .dataframe tbody tr th {\n",
       "        vertical-align: top;\n",
       "    }\n",
       "\n",
       "    .dataframe thead th {\n",
       "        text-align: right;\n",
       "    }\n",
       "</style>\n",
       "<table border=\"1\" class=\"dataframe\">\n",
       "  <thead>\n",
       "    <tr style=\"text-align: right;\">\n",
       "      <th></th>\n",
       "      <th>visitor_id</th>\n",
       "      <th>orders</th>\n",
       "    </tr>\n",
       "  </thead>\n",
       "  <tbody>\n",
       "    <tr>\n",
       "      <th>908</th>\n",
       "      <td>3967698036</td>\n",
       "      <td>3</td>\n",
       "    </tr>\n",
       "    <tr>\n",
       "      <th>55</th>\n",
       "      <td>249864742</td>\n",
       "      <td>3</td>\n",
       "    </tr>\n",
       "    <tr>\n",
       "      <th>478</th>\n",
       "      <td>2108163459</td>\n",
       "      <td>3</td>\n",
       "    </tr>\n",
       "    <tr>\n",
       "      <th>687</th>\n",
       "      <td>2988190573</td>\n",
       "      <td>3</td>\n",
       "    </tr>\n",
       "    <tr>\n",
       "      <th>890</th>\n",
       "      <td>3908431265</td>\n",
       "      <td>3</td>\n",
       "    </tr>\n",
       "  </tbody>\n",
       "</table>\n",
       "</div>"
      ],
      "text/plain": [
       "     visitor_id  orders\n",
       "908  3967698036       3\n",
       "55    249864742       3\n",
       "478  2108163459       3\n",
       "687  2988190573       3\n",
       "890  3908431265       3"
      ]
     },
     "execution_count": 31,
     "metadata": {},
     "output_type": "execute_result"
    }
   ],
   "source": [
    "ordersByUsers = (orders_new.groupby('visitor_id', as_index=False)\n",
    "    .agg({'transaction_id': pd.Series.nunique}))\n",
    "\n",
    "ordersByUsers.columns = ['visitor_id', 'orders']\n",
    "ordersByUsers_sorted = ordersByUsers.sort_values(by='orders', ascending=False)\n",
    "\n",
    "ordersByUsers_sorted.head(5)"
   ]
  },
  {
   "cell_type": "code",
   "execution_count": 32,
   "metadata": {},
   "outputs": [
    {
     "data": {
      "image/png": "[encoded data removed]",
      "text/plain": [
       "<Figure size 720x360 with 1 Axes>"
      ]
     },
     "metadata": {
      "needs_background": "light"
     },
     "output_type": "display_data"
    }
   ],
   "source": [
    "x_values = pd.Series(range(0, len(ordersByUsers)))\n",
    "plt.figure(figsize=(10,5))\n",
    "plt.grid()\n",
    "plt.scatter(x_values, ordersByUsers['orders'])\n",
    "plt.ylabel('Orders')\n",
    "plt.xlabel('Users')\n",
    "plt.title('Number of orders per user');"
   ]
  },
  {
   "cell_type": "code",
   "execution_count": 33,
   "metadata": {},
   "outputs": [
    {
     "name": "stdout",
     "output_type": "stream",
     "text": [
      "[1. 2.]\n"
     ]
    }
   ],
   "source": [
    "print(np.percentile(ordersByUsers['orders'], [95, 99]))"
   ]
  },
  {
   "cell_type": "markdown",
   "metadata": {},
   "source": [
    "### Orders amount"
   ]
  },
  {
   "cell_type": "code",
   "execution_count": 34,
   "metadata": {},
   "outputs": [
    {
     "data": {
      "image/png": "[encoded data removed]",
      "text/plain": [
       "<Figure size 720x360 with 1 Axes>"
      ]
     },
     "metadata": {
      "needs_background": "light"
     },
     "output_type": "display_data"
    }
   ],
   "source": [
    "x_values = pd.Series(range(0, len(orders['revenue'])))\n",
    "plt.figure(figsize=(10,5))\n",
    "plt.grid()\n",
    "plt.ylabel('Order amount')\n",
    "plt.xlabel('Users')\n",
    "plt.title('Order amount per user')\n",
    "plt.scatter(x_values, orders['revenue'])\n",
    "plt.show()"
   ]
  },
  {
   "cell_type": "code",
   "execution_count": 35,
   "metadata": {},
   "outputs": [
    {
     "name": "stdout",
     "output_type": "stream",
     "text": [
      "[26785. 53904.]\n"
     ]
    }
   ],
   "source": [
    "print(np.percentile(orders_new['revenue'], [95, 99]))"
   ]
  },
  {
   "cell_type": "markdown",
   "metadata": {},
   "source": [
    "## Statistical hypotheses testing¶"
   ]
  },
  {
   "cell_type": "markdown",
   "metadata": {},
   "source": [
    "### Statistical significance of differences in Average orders number per user by groups (for row data)"
   ]
  },
  {
   "cell_type": "markdown",
   "metadata": {},
   "source": [
    "*Н0:* There are no statistically significant differences in Average orders number per user by groups (for row data)\n",
    "\n",
    "*Н1:* The differences in Average orders number per user by groups (for row data) are statistically significant "
   ]
  },
  {
   "cell_type": "code",
   "execution_count": 36,
   "metadata": {},
   "outputs": [
    {
     "name": "stdout",
     "output_type": "stream",
     "text": [
      "p-value = 0.01679\n",
      "Relative difference= 0.138\n"
     ]
    }
   ],
   "source": [
    "visitorsADaily = visitors[visitors['group'] == 'A'][['date', 'visitors']]\n",
    "visitorsADaily.columns = ['date', 'visitorsPerDateA']\n",
    "\n",
    "visitorsACummulative = visitorsADaily.apply(\n",
    "    lambda x: visitorsADaily[visitorsADaily['date'] <= x['date']].agg(\n",
    "        {'date': 'max', 'visitorsPerDateA': 'sum'}\n",
    "    ),\n",
    "    axis=1,\n",
    ")\n",
    "visitorsACummulative.columns = ['date', 'visitorsCummulativeA']\n",
    "\n",
    "visitorsBDaily = visitors[visitors['group'] == 'B'][['date', 'visitors']]\n",
    "visitorsBDaily.columns = ['date', 'visitorsPerDateB']\n",
    "\n",
    "visitorsBCummulative = visitorsBDaily.apply(\n",
    "    lambda x: visitorsBDaily[visitorsBDaily['date'] <= x['date']].agg(\n",
    "        {'date': 'max', 'visitorsPerDateB': 'sum'}\n",
    "    ),\n",
    "    axis=1,\n",
    ")\n",
    "visitorsBCummulative.columns = ['date', 'visitorsCummulativeB']\n",
    "\n",
    "ordersADaily = (\n",
    "    orders[orders['group'] == 'A'][['date', 'transaction_id', 'visitor_id', 'revenue']]\n",
    "    .groupby('date', as_index=False)\n",
    "    .agg({'transaction_id': pd.Series.nunique, 'revenue': 'sum'})\n",
    ")\n",
    "ordersADaily.columns = ['date', 'ordersPerDateA', 'revenuePerDateA']\n",
    "\n",
    "ordersACummulative = ordersADaily.apply(\n",
    "    lambda x: ordersADaily[ordersADaily['date'] <= x['date']].agg(\n",
    "        {'date': 'max', 'ordersPerDateA': 'sum', 'revenuePerDateA': 'sum'}\n",
    "    ),\n",
    "    axis=1,\n",
    ").sort_values(by=['date'])\n",
    "ordersACummulative.columns = [\n",
    "    'date',\n",
    "    'ordersCummulativeA',\n",
    "    'revenueCummulativeA',\n",
    "]\n",
    "\n",
    "ordersBDaily = (\n",
    "    orders[orders['group'] == 'B'][['date', 'transaction_id', 'visitor_id', 'revenue']]\n",
    "    .groupby('date', as_index=False)\n",
    "    .agg({'transaction_id': pd.Series.nunique, 'revenue': 'sum'})\n",
    ")\n",
    "ordersBDaily.columns = ['date', 'ordersPerDateB', 'revenuePerDateB']\n",
    "\n",
    "ordersBCummulative = ordersBDaily.apply(\n",
    "    lambda x: ordersBDaily[ordersBDaily['date'] <= x['date']].agg(\n",
    "        {'date': 'max', 'ordersPerDateB': 'sum', 'revenuePerDateB': 'sum'}\n",
    "    ),\n",
    "    axis=1,\n",
    ").sort_values(by=['date'])\n",
    "ordersBCummulative.columns = [\n",
    "    'date',\n",
    "    'ordersCummulativeB',\n",
    "    'revenueCummulativeB',\n",
    "]\n",
    "\n",
    "data = (\n",
    "    ordersADaily.merge(\n",
    "        ordersBDaily, left_on='date', right_on='date', how='left'\n",
    "    )\n",
    "    .merge(ordersACummulative, left_on='date', right_on='date', how='left')\n",
    "    .merge(ordersBCummulative, left_on='date', right_on='date', how='left')\n",
    "    .merge(visitorsADaily, left_on='date', right_on='date', how='left')\n",
    "    .merge(visitorsBDaily, left_on='date', right_on='date', how='left')\n",
    "    .merge(visitorsACummulative, left_on='date', right_on='date', how='left')\n",
    "    .merge(visitorsBCummulative, left_on='date', right_on='date', how='left')\n",
    ")\n",
    "\n",
    "ordersByUsersA = (\n",
    "    orders[orders['group'] == 'A']\n",
    "    .groupby('visitor_id', as_index=False)\n",
    "    .agg({'transaction_id': pd.Series.nunique})\n",
    ")\n",
    "ordersByUsersA.columns = ['visitor_id', 'orders']\n",
    "\n",
    "ordersByUsersB = (\n",
    "    orders[orders['group'] == 'B']\n",
    "    .groupby('visitor_id', as_index=False)\n",
    "    .agg({'transaction_id': pd.Series.nunique})\n",
    ")\n",
    "ordersByUsersB.columns = ['visitor_id', 'orders']\n",
    "\n",
    "sampleA = pd.concat(\n",
    "    [\n",
    "        ordersByUsersA['orders'],\n",
    "        pd.Series(\n",
    "            0,\n",
    "            index=np.arange(\n",
    "                data['visitorsPerDateA'].sum() - len(ordersByUsersA['orders'])\n",
    "            ),\n",
    "            name='orders',\n",
    "        ),\n",
    "    ],\n",
    "    axis=0,\n",
    ")\n",
    "\n",
    "sampleB = pd.concat(\n",
    "    [\n",
    "        ordersByUsersB['orders'],\n",
    "        pd.Series(\n",
    "            0,\n",
    "            index=np.arange(\n",
    "                data['visitorsPerDateB'].sum() - len(ordersByUsersB['orders'])\n",
    "            ),\n",
    "            name='orders',\n",
    "        ),\n",
    "    ],\n",
    "    axis=0,\n",
    ")\n",
    "\n",
    "print(\"p-value = {0:.5f}\".format(stats.mannwhitneyu(sampleA, sampleB)[1]))\n",
    "print(\"Relative difference= {0:.3f}\".format(sampleB.mean() / sampleA.mean() - 1))"
   ]
  },
  {
   "cell_type": "markdown",
   "metadata": {},
   "source": [
    "**Вывод:**\n",
    "\n",
    "- Относительное различие между группами - 13,8%.\n",
    "- P-value меньше 0,05, соответственно нулевую гипотезу следует отвергнуть, то есть различия в среднем количестве заказов на посетителя между группами по «сырым» данным статистически значимы.\n"
   ]
  },
  {
   "cell_type": "markdown",
   "metadata": {},
   "source": [
    "### Statistical significance of differences in Average check by groups (for row data)"
   ]
  },
  {
   "cell_type": "markdown",
   "metadata": {},
   "source": [
    "*Н0:* There are no statistically significant differences in Average check by groups (for row data)\n",
    "\n",
    "*Н1:* The differences in in Average check by groups (for row data) are statistically significant "
   ]
  },
  {
   "cell_type": "code",
   "execution_count": 37,
   "metadata": {},
   "outputs": [
    {
     "name": "stdout",
     "output_type": "stream",
     "text": [
      "p-value = 0.729\n",
      "Relative difference= 0.259\n"
     ]
    }
   ],
   "source": [
    "print(\"p-value = {0:.3f}\".format(\n",
    "    stats.mannwhitneyu(orders[orders['group']=='A']['revenue'], \n",
    "                       orders[orders['group']=='B']['revenue'])[1]))\n",
    "\n",
    "print(\"Relative difference= {0:.3f}\".format(\n",
    "    orders[orders['group']=='B']['revenue'].mean()/\n",
    "    orders[orders['group']=='A']['revenue'].mean()-1))"
   ]
  },
  {
   "cell_type": "markdown",
   "metadata": {},
   "source": [
    "### Statistical significance of differences in Average orders number per user by groups (for cleared data)"
   ]
  },
  {
   "cell_type": "markdown",
   "metadata": {},
   "source": [
    "*Н0:* There are no statistically significant differences in Average orders number per user by groups (for cleared data)\n",
    "\n",
    "*Н1:* The differences in Average orders number per user by groups (for cleared data) are statistically significant "
   ]
  },
  {
   "cell_type": "code",
   "execution_count": 38,
   "metadata": {},
   "outputs": [
    {
     "name": "stdout",
     "output_type": "stream",
     "text": [
      "p-value = 0.010\n",
      "Relative difference= 0.174\n"
     ]
    }
   ],
   "source": [
    "usersWithManyOrders = pd.concat(\n",
    "    [\n",
    "        ordersByUsersA[ordersByUsersA['orders'] > np.percentile(ordersByUsers['orders'],99)]['visitor_id'],\n",
    "        ordersByUsersB[ordersByUsersB['orders'] > np.percentile(ordersByUsers['orders'],99)]['visitor_id'],\n",
    "    ],\n",
    "    axis=0,\n",
    ")\n",
    "usersWithExpensiveOrders = orders[orders['revenue'] > np.percentile(orders_new['revenue'],99)]['visitor_id']\n",
    "abnormalUsers = (\n",
    "    pd.concat([usersWithManyOrders, usersWithExpensiveOrders], axis=0)\n",
    "    .drop_duplicates()\n",
    "    .sort_values()\n",
    ")\n",
    "\n",
    "sampleAFiltered = pd.concat(\n",
    "    [\n",
    "        ordersByUsersA[\n",
    "            np.logical_not(ordersByUsersA['visitor_id'].isin(abnormalUsers))\n",
    "        ]['orders'],\n",
    "        pd.Series(\n",
    "            0,\n",
    "            index=np.arange(\n",
    "                data['visitorsPerDateA'].sum() - len(ordersByUsersA['orders'])\n",
    "            ),\n",
    "            name='orders',\n",
    "        ),\n",
    "    ],\n",
    "    axis=0,\n",
    ")\n",
    "\n",
    "sampleBFiltered = pd.concat(\n",
    "    [\n",
    "        ordersByUsersB[\n",
    "            np.logical_not(ordersByUsersB['visitor_id'].isin(abnormalUsers))\n",
    "        ]['orders'],\n",
    "        pd.Series(\n",
    "            0,\n",
    "            index=np.arange(\n",
    "                data['visitorsPerDateB'].sum() - len(ordersByUsersB['orders'])\n",
    "            ),\n",
    "            name='orders',\n",
    "        ),\n",
    "    ],\n",
    "    axis=0,\n",
    ")\n",
    "\n",
    "print(\"p-value = {0:.3f}\".format(stats.mannwhitneyu(sampleAFiltered, sampleBFiltered)[1]))\n",
    "print(\"Relative difference= {0:.3f}\".format(sampleBFiltered.mean()/sampleAFiltered.mean()-1))\n",
    "\n"
   ]
  },
  {
   "cell_type": "markdown",
   "metadata": {},
   "source": [
    "### Statistical significance of differences in Average check by groups (for cleared data)"
   ]
  },
  {
   "cell_type": "markdown",
   "metadata": {},
   "source": [
    "*Н0:* There are no statistically significant differences in Average check by groups (for cleared data)\n",
    "\n",
    "*Н1:* The differences in in Average check by groups (for cleared data) are statistically significant "
   ]
  },
  {
   "cell_type": "code",
   "execution_count": 39,
   "metadata": {},
   "outputs": [
    {
     "name": "stdout",
     "output_type": "stream",
     "text": [
      "p-value = 0.798\n",
      "Relative difference= -0.020\n"
     ]
    }
   ],
   "source": [
    "print(\n",
    "    \"p-value = {0:.3f}\".format(\n",
    "        stats.mannwhitneyu(\n",
    "            orders[\n",
    "                np.logical_and(\n",
    "                    orders['group'] == 'A',\n",
    "                    np.logical_not(orders['visitor_id'].isin(abnormalUsers)),\n",
    "                )\n",
    "            ]['revenue'],\n",
    "            orders[\n",
    "                np.logical_and(\n",
    "                    orders['group'] == 'B',\n",
    "                    np.logical_not(orders['visitor_id'].isin(abnormalUsers)),\n",
    "                )\n",
    "            ]['revenue'],\n",
    "        )[1]\n",
    "    )\n",
    ")\n",
    "\n",
    "print(\n",
    "    \"Relative difference= {0:.3f}\".format(\n",
    "        orders[\n",
    "            np.logical_and(\n",
    "                orders['group'] == 'B',\n",
    "                np.logical_not(orders['visitor_id'].isin(abnormalUsers)),\n",
    "            )\n",
    "        ]['revenue'].mean()\n",
    "        / orders[\n",
    "            np.logical_and(\n",
    "                orders['group'] == 'A',\n",
    "                np.logical_not(orders['visitor_id'].isin(abnormalUsers)),\n",
    "            )\n",
    "        ]['revenue'].mean()\n",
    "        - 1\n",
    "    )\n",
    ")"
   ]
  },
  {
   "cell_type": "markdown",
   "metadata": {},
   "source": [
    "## Conclusion"
   ]
  },
  {
   "cell_type": "markdown",
   "metadata": {},
   "source": [
    "1) Data is processed and explored;\\\n",
    "2) 9 Hypotheses assessed with RICE framework. Hypothesis # 7 is considered as the one that should be tested.\\\n",
    "3) Metrix analysed:\n",
    "   - Сumulative Revenue by groups:\\\n",
    "   Revenue increases all over the testing timeframe. For group B the jump around 18th August is detected, reasons for this need to be further analysed.\n",
    "   \n",
    "   \n",
    "   - Сumulative Average check by groups:\\\n",
    "   Average Check for Group A increases at the beginning of the timeframe, then shows steady growth and stabilizes by the end of the timeframe. Average Check for Group B shows the intermittent growth with significant jump around 18th August, then modulates and relatively stabilizes.\n",
    "   \n",
    "   \n",
    "   - Сumulative Average check Relative variation:\\\n",
    "   Сumulative Average check for Group B generally is higher than for Group A. The jump on 18th august is also visible.\n",
    "   \n",
    "   \n",
    "   - Сumulative Average orders number per user by groups:\\\n",
    "    Plot is close to symmetrical. After 6th August Conversion for Group A seems to be always lower than for Group B. Conversion for Group B shows variations that seem to significantly decrease by the end of the timeframe.\n",
    "    \n",
    "   \n",
    "   - Сumulative average orders number per user Relative variation:\\\n",
    "   In the beginning of the timeframe Group B loses out to Group A, but takes the lead around 6th August. After 25th August Conversion for Group B stabilizes and shows only insignificant variations within 10-15%.\n",
    "   \n",
    "   \n",
    "   - Number of Orders:\\\n",
    "   The majority of usres placed just 1 order, there are some useres that placed 2-5 orders, and 3 users that placed 8,9 & 11 orders each.\n",
    "   \n",
    "   \n",
    "   - Orders amount:\\\n",
    "   2 Potentially abnormal values detected: 200000 & 1250000. Orders like that are highly unlikely even for a big web shop, and it seems like order 1250000 is responsible for the Revenue and Average check variation jump detected earlier. Rest of the orders are around the same variation limits.\n",
    "   \n",
    "\n",
    "   - Abnormal values detection and processing:\n",
    "     - 95 & 99 percentiles for the number of orders are calculated. It shows that not more than 5% of users placed not more than 1 order, and not more than 1% of users placed not more than 2 orders. It is decided to acknowledge all users with more than 2 orders as abnormal values, and withdraw them.\n",
    "\n",
    "     - 95 & 99 percentiles for the cost of orders are calculated. It shows that not more than 5% of users paid more than 26785, and not more than 1% of users paid not more than 53904 orders. It is decided to acknowledge all orders that cost  more than 53904 as abnormal values, and withdraw them.   \n",
    "     \n",
    "   \n",
    "4) Statistical hypotheses testing results:¶   \n",
    "   - The differences in Average orders number per user by groups (for row data) are statistically significant.\n",
    "   - There are no statistically significant differences in Average check by groups (for row data).\n",
    "   - The differences in Average orders number per user by groups (for cleared data) are statistically significant.\n",
    "   - There are no statistically significant differences in Average check by groups (for cleared data).\n",
    "   \n",
    "**Thus it is decided to stop the test and state that Group B has won.**"
   ]
  }
 ],
 "metadata": {
  "ExecuteTimeLog": [
   {
    "duration": 73,
    "start_time": "2024-02-12T11:01:32.891Z"
   },
   {
    "duration": 1294,
    "start_time": "2024-02-12T11:15:16.580Z"
   },
   {
    "duration": 63,
    "start_time": "2024-02-12T11:16:23.660Z"
   },
   {
    "duration": 12,
    "start_time": "2024-02-12T11:16:30.611Z"
   },
   {
    "duration": 7,
    "start_time": "2024-02-12T11:17:07.900Z"
   },
   {
    "duration": 24,
    "start_time": "2024-02-12T11:19:24.378Z"
   },
   {
    "duration": 7,
    "start_time": "2024-02-12T11:19:25.881Z"
   },
   {
    "duration": 29,
    "start_time": "2024-02-12T11:20:44.429Z"
   },
   {
    "duration": 4,
    "start_time": "2024-02-12T11:20:47.228Z"
   },
   {
    "duration": 8,
    "start_time": "2024-02-12T11:20:54.433Z"
   },
   {
    "duration": 29,
    "start_time": "2024-02-12T11:21:28.544Z"
   },
   {
    "duration": 32,
    "start_time": "2024-02-12T11:21:50.016Z"
   },
   {
    "duration": 9,
    "start_time": "2024-02-12T11:21:56.428Z"
   },
   {
    "duration": 30,
    "start_time": "2024-02-12T11:22:00.965Z"
   },
   {
    "duration": 34,
    "start_time": "2024-02-12T11:35:11.757Z"
   },
   {
    "duration": 107,
    "start_time": "2024-02-12T11:38:41.505Z"
   },
   {
    "duration": 4,
    "start_time": "2024-02-12T11:38:53.518Z"
   },
   {
    "duration": 30,
    "start_time": "2024-02-12T11:38:58.582Z"
   },
   {
    "duration": 10,
    "start_time": "2024-02-12T11:39:02.717Z"
   },
   {
    "duration": 4,
    "start_time": "2024-02-12T11:39:28.421Z"
   },
   {
    "duration": 7,
    "start_time": "2024-02-12T11:39:31.932Z"
   },
   {
    "duration": 4,
    "start_time": "2024-02-12T11:39:41.704Z"
   },
   {
    "duration": 7,
    "start_time": "2024-02-12T11:39:45.244Z"
   },
   {
    "duration": 4,
    "start_time": "2024-02-12T11:40:03.689Z"
   },
   {
    "duration": 7,
    "start_time": "2024-02-12T11:40:08.447Z"
   },
   {
    "duration": 4,
    "start_time": "2024-02-12T11:40:15.729Z"
   },
   {
    "duration": 8,
    "start_time": "2024-02-12T11:40:18.531Z"
   },
   {
    "duration": 3,
    "start_time": "2024-02-12T11:44:17.683Z"
   },
   {
    "duration": 30,
    "start_time": "2024-02-12T11:44:21.470Z"
   },
   {
    "duration": 8,
    "start_time": "2024-02-12T11:44:25.104Z"
   },
   {
    "duration": 10,
    "start_time": "2024-02-12T11:45:22.358Z"
   },
   {
    "duration": 4,
    "start_time": "2024-02-12T11:45:43.604Z"
   },
   {
    "duration": 1159,
    "start_time": "2024-02-12T11:45:47.623Z"
   },
   {
    "duration": 33,
    "start_time": "2024-02-12T11:45:48.784Z"
   },
   {
    "duration": 10,
    "start_time": "2024-02-12T11:45:48.818Z"
   },
   {
    "duration": 17,
    "start_time": "2024-02-12T11:45:48.830Z"
   },
   {
    "duration": 3,
    "start_time": "2024-02-12T11:46:24.849Z"
   },
   {
    "duration": 1687,
    "start_time": "2024-02-12T16:20:40.383Z"
   },
   {
    "duration": 79,
    "start_time": "2024-02-12T16:20:42.072Z"
   },
   {
    "duration": 12,
    "start_time": "2024-02-12T16:20:42.152Z"
   },
   {
    "duration": 15,
    "start_time": "2024-02-12T16:20:42.166Z"
   },
   {
    "duration": 455,
    "start_time": "2024-02-12T16:42:16.901Z"
   },
   {
    "duration": 347,
    "start_time": "2024-02-12T16:42:28.629Z"
   },
   {
    "duration": 371,
    "start_time": "2024-02-12T16:42:38.583Z"
   },
   {
    "duration": 375,
    "start_time": "2024-02-12T16:43:00.090Z"
   },
   {
    "duration": 186,
    "start_time": "2024-02-12T16:45:37.773Z"
   },
   {
    "duration": 201,
    "start_time": "2024-02-12T16:45:56.579Z"
   },
   {
    "duration": 75,
    "start_time": "2024-02-12T16:55:11.155Z"
   },
   {
    "duration": 202,
    "start_time": "2024-02-12T16:55:21.218Z"
   },
   {
    "duration": 183,
    "start_time": "2024-02-12T16:56:32.753Z"
   },
   {
    "duration": 222,
    "start_time": "2024-02-12T16:57:27.333Z"
   },
   {
    "duration": 322,
    "start_time": "2024-02-12T16:59:42.559Z"
   },
   {
    "duration": 211,
    "start_time": "2024-02-12T17:00:24.353Z"
   },
   {
    "duration": 200,
    "start_time": "2024-02-12T17:06:05.328Z"
   },
   {
    "duration": 71,
    "start_time": "2024-02-12T17:06:54.534Z"
   },
   {
    "duration": 199,
    "start_time": "2024-02-12T17:07:04.912Z"
   },
   {
    "duration": 82,
    "start_time": "2024-02-12T17:07:12.313Z"
   },
   {
    "duration": 194,
    "start_time": "2024-02-12T17:07:21.975Z"
   },
   {
    "duration": 245,
    "start_time": "2024-02-12T17:07:34.405Z"
   },
   {
    "duration": 55,
    "start_time": "2024-02-12T19:26:42.686Z"
   },
   {
    "duration": 1495,
    "start_time": "2024-02-12T19:27:01.882Z"
   },
   {
    "duration": 72,
    "start_time": "2024-02-12T19:27:03.379Z"
   },
   {
    "duration": 12,
    "start_time": "2024-02-12T19:27:03.453Z"
   },
   {
    "duration": 29,
    "start_time": "2024-02-12T19:27:03.467Z"
   },
   {
    "duration": 253,
    "start_time": "2024-02-12T19:27:03.498Z"
   },
   {
    "duration": 9,
    "start_time": "2024-02-12T19:27:03.758Z"
   },
   {
    "duration": 1330,
    "start_time": "2024-02-12T19:27:03.769Z"
   },
   {
    "duration": 12,
    "start_time": "2024-02-12T19:29:00.272Z"
   },
   {
    "duration": 11,
    "start_time": "2024-02-12T19:29:16.588Z"
   },
   {
    "duration": 1195,
    "start_time": "2024-02-12T19:29:20.585Z"
   },
   {
    "duration": 201,
    "start_time": "2024-02-12T19:29:31.830Z"
   },
   {
    "duration": 14,
    "start_time": "2024-02-12T19:54:06.180Z"
   },
   {
    "duration": 300,
    "start_time": "2024-02-12T19:57:13.133Z"
   },
   {
    "duration": 16,
    "start_time": "2024-02-12T19:59:40.240Z"
   },
   {
    "duration": 17,
    "start_time": "2024-02-12T20:02:09.644Z"
   },
   {
    "duration": 194,
    "start_time": "2024-02-12T20:06:42.164Z"
   },
   {
    "duration": 182,
    "start_time": "2024-02-12T20:06:56.491Z"
   },
   {
    "duration": 193,
    "start_time": "2024-02-12T20:07:11.375Z"
   },
   {
    "duration": 240,
    "start_time": "2024-02-12T20:07:23.622Z"
   },
   {
    "duration": 13,
    "start_time": "2024-02-12T20:08:23.786Z"
   },
   {
    "duration": 10,
    "start_time": "2024-02-12T20:09:50.255Z"
   },
   {
    "duration": 11,
    "start_time": "2024-02-12T20:21:45.526Z"
   },
   {
    "duration": 10,
    "start_time": "2024-02-12T20:22:19.585Z"
   },
   {
    "duration": 100,
    "start_time": "2024-02-12T20:35:33.653Z"
   },
   {
    "duration": 54,
    "start_time": "2024-02-12T20:35:52.265Z"
   },
   {
    "duration": 12,
    "start_time": "2024-02-12T20:36:15.656Z"
   },
   {
    "duration": 6,
    "start_time": "2024-02-12T20:37:06.841Z"
   },
   {
    "duration": 12,
    "start_time": "2024-02-12T20:37:13.558Z"
   },
   {
    "duration": 6,
    "start_time": "2024-02-12T20:40:05.707Z"
   },
   {
    "duration": 7,
    "start_time": "2024-02-12T20:40:25.561Z"
   },
   {
    "duration": 7,
    "start_time": "2024-02-12T20:40:29.368Z"
   },
   {
    "duration": 6,
    "start_time": "2024-02-12T20:41:09.680Z"
   },
   {
    "duration": 8,
    "start_time": "2024-02-12T20:42:03.013Z"
   },
   {
    "duration": 10,
    "start_time": "2024-02-12T20:42:24.759Z"
   },
   {
    "duration": 8,
    "start_time": "2024-02-12T20:45:17.414Z"
   },
   {
    "duration": 60,
    "start_time": "2024-02-12T20:47:17.820Z"
   },
   {
    "duration": 53,
    "start_time": "2024-02-12T20:47:26.396Z"
   },
   {
    "duration": 6,
    "start_time": "2024-02-12T20:48:38.818Z"
   },
   {
    "duration": 5,
    "start_time": "2024-02-12T20:55:56.111Z"
   },
   {
    "duration": 5,
    "start_time": "2024-02-12T21:03:58.444Z"
   },
   {
    "duration": 70,
    "start_time": "2024-02-12T21:04:34.894Z"
   },
   {
    "duration": 11,
    "start_time": "2024-02-12T21:05:19.081Z"
   },
   {
    "duration": 5,
    "start_time": "2024-02-12T21:06:46.951Z"
   },
   {
    "duration": 17,
    "start_time": "2024-02-12T21:06:52.358Z"
   },
   {
    "duration": 5,
    "start_time": "2024-02-12T21:08:29.227Z"
   },
   {
    "duration": 12,
    "start_time": "2024-02-12T21:11:34.558Z"
   },
   {
    "duration": 6,
    "start_time": "2024-02-12T21:14:21.777Z"
   },
   {
    "duration": 7,
    "start_time": "2024-02-12T21:14:33.080Z"
   },
   {
    "duration": 4,
    "start_time": "2024-02-12T21:19:24.633Z"
   },
   {
    "duration": 72,
    "start_time": "2024-02-12T21:20:34.326Z"
   },
   {
    "duration": 74,
    "start_time": "2024-02-12T21:21:03.995Z"
   },
   {
    "duration": 5,
    "start_time": "2024-02-12T21:21:11.756Z"
   },
   {
    "duration": 4,
    "start_time": "2024-02-12T21:22:04.464Z"
   },
   {
    "duration": 4,
    "start_time": "2024-02-12T21:23:46.549Z"
   },
   {
    "duration": 310,
    "start_time": "2024-02-12T21:40:35.557Z"
   },
   {
    "duration": 30,
    "start_time": "2024-02-12T21:45:47.905Z"
   },
   {
    "duration": 71,
    "start_time": "2024-02-12T21:46:18.647Z"
   },
   {
    "duration": 297,
    "start_time": "2024-02-12T21:46:30.988Z"
   },
   {
    "duration": 377,
    "start_time": "2024-02-12T21:47:13.562Z"
   },
   {
    "duration": 4938,
    "start_time": "2024-02-12T21:50:21.161Z"
   },
   {
    "duration": 304,
    "start_time": "2024-02-12T21:58:47.035Z"
   },
   {
    "duration": 1250,
    "start_time": "2024-02-13T19:23:37.211Z"
   },
   {
    "duration": 82,
    "start_time": "2024-02-13T19:23:38.464Z"
   },
   {
    "duration": 11,
    "start_time": "2024-02-13T19:23:38.548Z"
   },
   {
    "duration": 20,
    "start_time": "2024-02-13T19:23:38.562Z"
   },
   {
    "duration": 196,
    "start_time": "2024-02-13T19:23:38.584Z"
   },
   {
    "duration": 10,
    "start_time": "2024-02-13T19:23:38.782Z"
   },
   {
    "duration": 208,
    "start_time": "2024-02-13T19:23:38.793Z"
   },
   {
    "duration": 10,
    "start_time": "2024-02-13T19:23:39.002Z"
   },
   {
    "duration": 91,
    "start_time": "2024-02-13T19:23:39.013Z"
   },
   {
    "duration": 10,
    "start_time": "2024-02-13T19:23:39.107Z"
   },
   {
    "duration": 8,
    "start_time": "2024-02-13T19:23:39.119Z"
   },
   {
    "duration": 15,
    "start_time": "2024-02-13T19:23:39.128Z"
   },
   {
    "duration": 7,
    "start_time": "2024-02-13T19:23:39.145Z"
   },
   {
    "duration": 5,
    "start_time": "2024-02-13T19:23:39.154Z"
   },
   {
    "duration": 7,
    "start_time": "2024-02-13T19:23:39.161Z"
   },
   {
    "duration": 63,
    "start_time": "2024-02-13T19:23:39.169Z"
   },
   {
    "duration": 9,
    "start_time": "2024-02-13T19:23:39.234Z"
   },
   {
    "duration": 4,
    "start_time": "2024-02-13T19:23:39.245Z"
   },
   {
    "duration": 12,
    "start_time": "2024-02-13T19:23:39.250Z"
   },
   {
    "duration": 7,
    "start_time": "2024-02-13T19:23:39.263Z"
   },
   {
    "duration": 5,
    "start_time": "2024-02-13T19:23:39.272Z"
   },
   {
    "duration": 8,
    "start_time": "2024-02-13T19:23:39.278Z"
   },
   {
    "duration": 543,
    "start_time": "2024-02-13T19:23:39.288Z"
   },
   {
    "duration": 487,
    "start_time": "2024-02-13T19:27:20.406Z"
   },
   {
    "duration": 438,
    "start_time": "2024-02-13T19:28:16.223Z"
   },
   {
    "duration": 475,
    "start_time": "2024-02-13T19:28:36.568Z"
   },
   {
    "duration": 434,
    "start_time": "2024-02-13T19:28:50.905Z"
   },
   {
    "duration": 185,
    "start_time": "2024-02-13T19:33:01.375Z"
   },
   {
    "duration": 425,
    "start_time": "2024-02-13T19:36:22.568Z"
   },
   {
    "duration": 424,
    "start_time": "2024-02-13T19:36:57.895Z"
   },
   {
    "duration": 432,
    "start_time": "2024-02-13T19:37:07.252Z"
   },
   {
    "duration": 187,
    "start_time": "2024-02-13T19:37:14.516Z"
   },
   {
    "duration": 290,
    "start_time": "2024-02-13T19:37:21.133Z"
   },
   {
    "duration": 227,
    "start_time": "2024-02-13T19:40:34.905Z"
   },
   {
    "duration": 314,
    "start_time": "2024-02-13T19:43:18.640Z"
   },
   {
    "duration": 181,
    "start_time": "2024-02-13T19:55:58.292Z"
   },
   {
    "duration": 445,
    "start_time": "2024-02-13T19:56:05.142Z"
   },
   {
    "duration": 352,
    "start_time": "2024-02-13T20:04:11.736Z"
   },
   {
    "duration": 230,
    "start_time": "2024-02-13T20:04:17.830Z"
   },
   {
    "duration": 368,
    "start_time": "2024-02-13T20:12:13.299Z"
   },
   {
    "duration": 125,
    "start_time": "2024-02-13T20:34:50.620Z"
   },
   {
    "duration": 132,
    "start_time": "2024-02-13T20:36:19.375Z"
   },
   {
    "duration": 121,
    "start_time": "2024-02-13T20:37:53.868Z"
   },
   {
    "duration": 120,
    "start_time": "2024-02-13T20:39:25.764Z"
   },
   {
    "duration": 147,
    "start_time": "2024-02-13T20:40:04.064Z"
   },
   {
    "duration": 120,
    "start_time": "2024-02-13T20:40:10.521Z"
   },
   {
    "duration": 209,
    "start_time": "2024-02-13T20:40:41.801Z"
   },
   {
    "duration": 131,
    "start_time": "2024-02-13T20:41:26.566Z"
   },
   {
    "duration": 134,
    "start_time": "2024-02-13T20:41:34.177Z"
   },
   {
    "duration": 130,
    "start_time": "2024-02-13T20:41:40.236Z"
   },
   {
    "duration": 122,
    "start_time": "2024-02-13T20:46:06.390Z"
   },
   {
    "duration": 3,
    "start_time": "2024-02-13T20:47:44.612Z"
   },
   {
    "duration": 129,
    "start_time": "2024-02-13T20:55:41.803Z"
   },
   {
    "duration": 139,
    "start_time": "2024-02-13T20:56:33.000Z"
   },
   {
    "duration": 4,
    "start_time": "2024-02-13T21:04:00.296Z"
   },
   {
    "duration": 323,
    "start_time": "2024-02-13T21:12:55.475Z"
   },
   {
    "duration": 3,
    "start_time": "2024-02-13T21:13:44.550Z"
   },
   {
    "duration": 327,
    "start_time": "2024-02-13T21:13:48.129Z"
   },
   {
    "duration": 10,
    "start_time": "2024-02-13T21:51:09.532Z"
   },
   {
    "duration": 34,
    "start_time": "2024-02-13T22:00:37.443Z"
   },
   {
    "duration": 14,
    "start_time": "2024-02-13T22:02:55.622Z"
   },
   {
    "duration": 1096,
    "start_time": "2024-02-13T22:12:30.402Z"
   },
   {
    "duration": 35,
    "start_time": "2024-02-13T22:12:31.499Z"
   },
   {
    "duration": 10,
    "start_time": "2024-02-13T22:12:31.536Z"
   },
   {
    "duration": 16,
    "start_time": "2024-02-13T22:12:31.548Z"
   },
   {
    "duration": 158,
    "start_time": "2024-02-13T22:12:31.566Z"
   },
   {
    "duration": 11,
    "start_time": "2024-02-13T22:12:31.726Z"
   },
   {
    "duration": 139,
    "start_time": "2024-02-13T22:12:31.739Z"
   },
   {
    "duration": 10,
    "start_time": "2024-02-13T22:12:31.880Z"
   },
   {
    "duration": 47,
    "start_time": "2024-02-13T22:12:31.891Z"
   },
   {
    "duration": 10,
    "start_time": "2024-02-13T22:12:31.941Z"
   },
   {
    "duration": 8,
    "start_time": "2024-02-13T22:12:31.953Z"
   },
   {
    "duration": 11,
    "start_time": "2024-02-13T22:12:31.963Z"
   },
   {
    "duration": 6,
    "start_time": "2024-02-13T22:12:31.976Z"
   },
   {
    "duration": 4,
    "start_time": "2024-02-13T22:12:31.984Z"
   },
   {
    "duration": 7,
    "start_time": "2024-02-13T22:12:31.990Z"
   },
   {
    "duration": 30,
    "start_time": "2024-02-13T22:12:31.998Z"
   },
   {
    "duration": 10,
    "start_time": "2024-02-13T22:12:32.029Z"
   },
   {
    "duration": 24,
    "start_time": "2024-02-13T22:12:32.041Z"
   },
   {
    "duration": 12,
    "start_time": "2024-02-13T22:12:32.068Z"
   },
   {
    "duration": 6,
    "start_time": "2024-02-13T22:12:32.082Z"
   },
   {
    "duration": 5,
    "start_time": "2024-02-13T22:12:32.090Z"
   },
   {
    "duration": 4,
    "start_time": "2024-02-13T22:12:32.097Z"
   },
   {
    "duration": 546,
    "start_time": "2024-02-13T22:12:32.103Z"
   },
   {
    "duration": 193,
    "start_time": "2024-02-13T22:12:32.651Z"
   },
   {
    "duration": 321,
    "start_time": "2024-02-13T22:12:32.846Z"
   },
   {
    "duration": 213,
    "start_time": "2024-02-13T22:12:33.169Z"
   },
   {
    "duration": 299,
    "start_time": "2024-02-13T22:12:33.384Z"
   },
   {
    "duration": 145,
    "start_time": "2024-02-13T22:12:33.687Z"
   },
   {
    "duration": 204,
    "start_time": "2024-02-13T22:12:33.833Z"
   },
   {
    "duration": 4,
    "start_time": "2024-02-13T22:12:34.039Z"
   },
   {
    "duration": 161,
    "start_time": "2024-02-13T22:12:34.045Z"
   },
   {
    "duration": 4,
    "start_time": "2024-02-13T22:12:34.208Z"
   },
   {
    "duration": 344,
    "start_time": "2024-02-13T22:12:34.214Z"
   },
   {
    "duration": 11,
    "start_time": "2024-02-13T22:12:34.560Z"
   },
   {
    "duration": 32,
    "start_time": "2024-02-13T22:12:34.573Z"
   },
   {
    "duration": 11,
    "start_time": "2024-02-13T22:12:34.607Z"
   },
   {
    "duration": 102,
    "start_time": "2024-02-13T22:12:34.620Z"
   },
   {
    "duration": 1091,
    "start_time": "2024-02-13T22:14:15.091Z"
   },
   {
    "duration": 36,
    "start_time": "2024-02-13T22:14:16.183Z"
   },
   {
    "duration": 10,
    "start_time": "2024-02-13T22:14:16.221Z"
   },
   {
    "duration": 11,
    "start_time": "2024-02-13T22:14:16.232Z"
   },
   {
    "duration": 145,
    "start_time": "2024-02-13T22:14:16.244Z"
   },
   {
    "duration": 11,
    "start_time": "2024-02-13T22:14:16.390Z"
   },
   {
    "duration": 134,
    "start_time": "2024-02-13T22:14:16.402Z"
   },
   {
    "duration": 9,
    "start_time": "2024-02-13T22:14:16.537Z"
   },
   {
    "duration": 48,
    "start_time": "2024-02-13T22:14:16.547Z"
   },
   {
    "duration": 9,
    "start_time": "2024-02-13T22:14:16.598Z"
   },
   {
    "duration": 5,
    "start_time": "2024-02-13T22:14:16.609Z"
   },
   {
    "duration": 11,
    "start_time": "2024-02-13T22:14:16.615Z"
   },
   {
    "duration": 6,
    "start_time": "2024-02-13T22:14:16.628Z"
   },
   {
    "duration": 4,
    "start_time": "2024-02-13T22:14:16.636Z"
   },
   {
    "duration": 6,
    "start_time": "2024-02-13T22:14:16.642Z"
   },
   {
    "duration": 23,
    "start_time": "2024-02-13T22:14:16.649Z"
   },
   {
    "duration": 9,
    "start_time": "2024-02-13T22:14:16.673Z"
   },
   {
    "duration": 8,
    "start_time": "2024-02-13T22:14:16.683Z"
   },
   {
    "duration": 10,
    "start_time": "2024-02-13T22:14:16.693Z"
   },
   {
    "duration": 11,
    "start_time": "2024-02-13T22:14:16.704Z"
   },
   {
    "duration": 4,
    "start_time": "2024-02-13T22:14:16.717Z"
   },
   {
    "duration": 8,
    "start_time": "2024-02-13T22:14:16.723Z"
   },
   {
    "duration": 530,
    "start_time": "2024-02-13T22:14:16.732Z"
   },
   {
    "duration": 205,
    "start_time": "2024-02-13T22:14:17.263Z"
   },
   {
    "duration": 307,
    "start_time": "2024-02-13T22:14:17.469Z"
   },
   {
    "duration": 215,
    "start_time": "2024-02-13T22:14:17.777Z"
   },
   {
    "duration": 277,
    "start_time": "2024-02-13T22:14:17.994Z"
   },
   {
    "duration": 152,
    "start_time": "2024-02-13T22:14:18.275Z"
   },
   {
    "duration": 207,
    "start_time": "2024-02-13T22:14:18.429Z"
   },
   {
    "duration": 4,
    "start_time": "2024-02-13T22:14:18.638Z"
   },
   {
    "duration": 148,
    "start_time": "2024-02-13T22:14:18.643Z"
   },
   {
    "duration": 4,
    "start_time": "2024-02-13T22:14:18.793Z"
   },
   {
    "duration": 373,
    "start_time": "2024-02-13T22:14:18.799Z"
   },
   {
    "duration": 10,
    "start_time": "2024-02-13T22:14:19.174Z"
   },
   {
    "duration": 35,
    "start_time": "2024-02-13T22:14:19.185Z"
   },
   {
    "duration": 13,
    "start_time": "2024-02-13T22:14:19.222Z"
   },
   {
    "duration": 1318,
    "start_time": "2024-02-13T22:16:39.720Z"
   },
   {
    "duration": 31,
    "start_time": "2024-02-13T22:17:26.527Z"
   },
   {
    "duration": 1359,
    "start_time": "2024-02-14T08:05:44.717Z"
   },
   {
    "duration": 82,
    "start_time": "2024-02-14T08:05:46.078Z"
   },
   {
    "duration": 10,
    "start_time": "2024-02-14T08:05:46.162Z"
   },
   {
    "duration": 23,
    "start_time": "2024-02-14T08:05:46.174Z"
   },
   {
    "duration": 170,
    "start_time": "2024-02-14T08:05:46.198Z"
   },
   {
    "duration": 11,
    "start_time": "2024-02-14T08:05:46.370Z"
   },
   {
    "duration": 144,
    "start_time": "2024-02-14T08:05:46.383Z"
   },
   {
    "duration": 10,
    "start_time": "2024-02-14T08:05:46.528Z"
   },
   {
    "duration": 95,
    "start_time": "2024-02-14T08:05:46.539Z"
   },
   {
    "duration": 9,
    "start_time": "2024-02-14T08:05:46.637Z"
   },
   {
    "duration": 14,
    "start_time": "2024-02-14T08:05:46.647Z"
   },
   {
    "duration": 27,
    "start_time": "2024-02-14T08:05:46.663Z"
   },
   {
    "duration": 8,
    "start_time": "2024-02-14T08:05:46.692Z"
   },
   {
    "duration": 8,
    "start_time": "2024-02-14T08:05:46.701Z"
   },
   {
    "duration": 19,
    "start_time": "2024-02-14T08:05:46.711Z"
   },
   {
    "duration": 58,
    "start_time": "2024-02-14T08:05:46.731Z"
   },
   {
    "duration": 9,
    "start_time": "2024-02-14T08:05:46.791Z"
   },
   {
    "duration": 6,
    "start_time": "2024-02-14T08:05:46.802Z"
   },
   {
    "duration": 10,
    "start_time": "2024-02-14T08:05:46.809Z"
   },
   {
    "duration": 7,
    "start_time": "2024-02-14T08:05:46.821Z"
   },
   {
    "duration": 4,
    "start_time": "2024-02-14T08:05:46.830Z"
   },
   {
    "duration": 6,
    "start_time": "2024-02-14T08:05:46.836Z"
   },
   {
    "duration": 553,
    "start_time": "2024-02-14T08:05:46.843Z"
   },
   {
    "duration": 210,
    "start_time": "2024-02-14T08:05:47.398Z"
   },
   {
    "duration": 323,
    "start_time": "2024-02-14T08:05:47.610Z"
   },
   {
    "duration": 231,
    "start_time": "2024-02-14T08:05:47.935Z"
   },
   {
    "duration": 306,
    "start_time": "2024-02-14T08:05:48.168Z"
   },
   {
    "duration": 134,
    "start_time": "2024-02-14T08:05:48.478Z"
   },
   {
    "duration": 204,
    "start_time": "2024-02-14T08:05:48.613Z"
   },
   {
    "duration": 4,
    "start_time": "2024-02-14T08:05:48.819Z"
   },
   {
    "duration": 180,
    "start_time": "2024-02-14T08:05:48.825Z"
   },
   {
    "duration": 5,
    "start_time": "2024-02-14T08:05:49.006Z"
   },
   {
    "duration": 341,
    "start_time": "2024-02-14T08:05:49.013Z"
   },
   {
    "duration": 12,
    "start_time": "2024-02-14T08:05:49.356Z"
   },
   {
    "duration": 34,
    "start_time": "2024-02-14T08:05:49.370Z"
   },
   {
    "duration": 13,
    "start_time": "2024-02-14T08:05:49.406Z"
   },
   {
    "duration": 1102,
    "start_time": "2024-02-14T09:47:20.015Z"
   },
   {
    "duration": 37,
    "start_time": "2024-02-14T09:47:21.119Z"
   },
   {
    "duration": 11,
    "start_time": "2024-02-14T09:47:21.157Z"
   },
   {
    "duration": 33,
    "start_time": "2024-02-14T09:47:21.169Z"
   },
   {
    "duration": 168,
    "start_time": "2024-02-14T09:47:21.203Z"
   },
   {
    "duration": 12,
    "start_time": "2024-02-14T09:47:21.372Z"
   },
   {
    "duration": 160,
    "start_time": "2024-02-14T09:47:21.385Z"
   },
   {
    "duration": 19,
    "start_time": "2024-02-14T09:47:21.547Z"
   },
   {
    "duration": 49,
    "start_time": "2024-02-14T09:47:21.568Z"
   },
   {
    "duration": 10,
    "start_time": "2024-02-14T09:47:21.619Z"
   },
   {
    "duration": 6,
    "start_time": "2024-02-14T09:47:21.631Z"
   },
   {
    "duration": 11,
    "start_time": "2024-02-14T09:47:21.638Z"
   },
   {
    "duration": 8,
    "start_time": "2024-02-14T09:47:21.650Z"
   },
   {
    "duration": 4,
    "start_time": "2024-02-14T09:47:21.659Z"
   },
   {
    "duration": 11,
    "start_time": "2024-02-14T09:47:21.665Z"
   },
   {
    "duration": 39,
    "start_time": "2024-02-14T09:47:21.677Z"
   },
   {
    "duration": 10,
    "start_time": "2024-02-14T09:47:21.718Z"
   },
   {
    "duration": 12,
    "start_time": "2024-02-14T09:47:21.730Z"
   },
   {
    "duration": 28,
    "start_time": "2024-02-14T09:47:21.744Z"
   },
   {
    "duration": 27,
    "start_time": "2024-02-14T09:47:21.774Z"
   },
   {
    "duration": 7,
    "start_time": "2024-02-14T09:47:21.803Z"
   },
   {
    "duration": 11,
    "start_time": "2024-02-14T09:47:21.812Z"
   },
   {
    "duration": 536,
    "start_time": "2024-02-14T09:47:21.824Z"
   },
   {
    "duration": 211,
    "start_time": "2024-02-14T09:47:22.361Z"
   },
   {
    "duration": 313,
    "start_time": "2024-02-14T09:47:22.574Z"
   },
   {
    "duration": 222,
    "start_time": "2024-02-14T09:47:22.888Z"
   },
   {
    "duration": 280,
    "start_time": "2024-02-14T09:47:23.112Z"
   },
   {
    "duration": 136,
    "start_time": "2024-02-14T09:47:23.394Z"
   },
   {
    "duration": 208,
    "start_time": "2024-02-14T09:47:23.531Z"
   },
   {
    "duration": 5,
    "start_time": "2024-02-14T09:47:23.740Z"
   },
   {
    "duration": 168,
    "start_time": "2024-02-14T09:47:23.747Z"
   },
   {
    "duration": 5,
    "start_time": "2024-02-14T09:47:23.916Z"
   },
   {
    "duration": 360,
    "start_time": "2024-02-14T09:47:23.922Z"
   },
   {
    "duration": 10,
    "start_time": "2024-02-14T09:47:24.284Z"
   },
   {
    "duration": 45,
    "start_time": "2024-02-14T09:47:24.295Z"
   },
   {
    "duration": 12,
    "start_time": "2024-02-14T09:47:24.341Z"
   },
   {
    "duration": 1138,
    "start_time": "2024-02-14T09:53:28.390Z"
   },
   {
    "duration": 34,
    "start_time": "2024-02-14T09:53:29.530Z"
   },
   {
    "duration": 10,
    "start_time": "2024-02-14T09:53:29.566Z"
   },
   {
    "duration": 26,
    "start_time": "2024-02-14T09:53:29.578Z"
   },
   {
    "duration": 154,
    "start_time": "2024-02-14T09:53:29.606Z"
   },
   {
    "duration": 10,
    "start_time": "2024-02-14T09:53:29.761Z"
   },
   {
    "duration": 140,
    "start_time": "2024-02-14T09:53:29.773Z"
   },
   {
    "duration": 9,
    "start_time": "2024-02-14T09:53:29.914Z"
   },
   {
    "duration": 45,
    "start_time": "2024-02-14T09:53:29.925Z"
   },
   {
    "duration": 10,
    "start_time": "2024-02-14T09:53:29.973Z"
   },
   {
    "duration": 6,
    "start_time": "2024-02-14T09:53:29.984Z"
   },
   {
    "duration": 13,
    "start_time": "2024-02-14T09:53:29.991Z"
   },
   {
    "duration": 9,
    "start_time": "2024-02-14T09:53:30.006Z"
   },
   {
    "duration": 27,
    "start_time": "2024-02-14T09:53:30.017Z"
   },
   {
    "duration": 42,
    "start_time": "2024-02-14T09:53:30.046Z"
   },
   {
    "duration": 86,
    "start_time": "2024-02-14T09:53:30.090Z"
   },
   {
    "duration": 50,
    "start_time": "2024-02-14T09:53:30.178Z"
   },
   {
    "duration": 49,
    "start_time": "2024-02-14T09:53:30.230Z"
   },
   {
    "duration": 57,
    "start_time": "2024-02-14T09:53:30.281Z"
   },
   {
    "duration": 93,
    "start_time": "2024-02-14T09:53:30.339Z"
   },
   {
    "duration": 65,
    "start_time": "2024-02-14T09:53:30.434Z"
   },
   {
    "duration": 42,
    "start_time": "2024-02-14T09:53:30.501Z"
   },
   {
    "duration": 567,
    "start_time": "2024-02-14T09:53:30.545Z"
   },
   {
    "duration": 229,
    "start_time": "2024-02-14T09:53:31.114Z"
   },
   {
    "duration": 444,
    "start_time": "2024-02-14T09:53:31.344Z"
   },
   {
    "duration": 469,
    "start_time": "2024-02-14T09:53:31.790Z"
   },
   {
    "duration": 429,
    "start_time": "2024-02-14T09:53:32.260Z"
   },
   {
    "duration": 214,
    "start_time": "2024-02-14T09:53:32.692Z"
   },
   {
    "duration": 163,
    "start_time": "2024-02-14T09:53:32.907Z"
   },
   {
    "duration": 4,
    "start_time": "2024-02-14T09:53:33.071Z"
   },
   {
    "duration": 227,
    "start_time": "2024-02-14T09:53:33.076Z"
   },
   {
    "duration": 3,
    "start_time": "2024-02-14T09:53:33.305Z"
   },
   {
    "duration": 340,
    "start_time": "2024-02-14T09:53:33.310Z"
   },
   {
    "duration": 14,
    "start_time": "2024-02-14T09:53:33.651Z"
   },
   {
    "duration": 32,
    "start_time": "2024-02-14T09:53:33.666Z"
   },
   {
    "duration": 12,
    "start_time": "2024-02-14T09:53:33.700Z"
   },
   {
    "duration": 1079,
    "start_time": "2024-02-14T09:53:49.905Z"
   },
   {
    "duration": 36,
    "start_time": "2024-02-14T09:53:50.985Z"
   },
   {
    "duration": 10,
    "start_time": "2024-02-14T09:53:51.023Z"
   },
   {
    "duration": 13,
    "start_time": "2024-02-14T09:53:51.035Z"
   },
   {
    "duration": 160,
    "start_time": "2024-02-14T09:53:51.050Z"
   },
   {
    "duration": 12,
    "start_time": "2024-02-14T09:53:51.212Z"
   },
   {
    "duration": 153,
    "start_time": "2024-02-14T09:53:51.226Z"
   },
   {
    "duration": 9,
    "start_time": "2024-02-14T09:53:51.381Z"
   },
   {
    "duration": 45,
    "start_time": "2024-02-14T09:53:51.391Z"
   },
   {
    "duration": 9,
    "start_time": "2024-02-14T09:53:51.439Z"
   },
   {
    "duration": 9,
    "start_time": "2024-02-14T09:53:51.449Z"
   },
   {
    "duration": 15,
    "start_time": "2024-02-14T09:53:51.460Z"
   },
   {
    "duration": 17,
    "start_time": "2024-02-14T09:53:51.477Z"
   },
   {
    "duration": 25,
    "start_time": "2024-02-14T09:53:51.496Z"
   },
   {
    "duration": 10,
    "start_time": "2024-02-14T09:53:51.522Z"
   },
   {
    "duration": 23,
    "start_time": "2024-02-14T09:53:51.533Z"
   },
   {
    "duration": 9,
    "start_time": "2024-02-14T09:53:51.557Z"
   },
   {
    "duration": 9,
    "start_time": "2024-02-14T09:53:51.567Z"
   },
   {
    "duration": 13,
    "start_time": "2024-02-14T09:53:51.578Z"
   },
   {
    "duration": 11,
    "start_time": "2024-02-14T09:53:51.592Z"
   },
   {
    "duration": 4,
    "start_time": "2024-02-14T09:53:51.604Z"
   },
   {
    "duration": 4,
    "start_time": "2024-02-14T09:53:51.610Z"
   },
   {
    "duration": 545,
    "start_time": "2024-02-14T09:53:51.615Z"
   },
   {
    "duration": 196,
    "start_time": "2024-02-14T09:53:52.161Z"
   },
   {
    "duration": 310,
    "start_time": "2024-02-14T09:53:52.358Z"
   },
   {
    "duration": 209,
    "start_time": "2024-02-14T09:53:52.669Z"
   },
   {
    "duration": 285,
    "start_time": "2024-02-14T09:53:52.879Z"
   },
   {
    "duration": 119,
    "start_time": "2024-02-14T09:53:53.167Z"
   },
   {
    "duration": 206,
    "start_time": "2024-02-14T09:53:53.287Z"
   },
   {
    "duration": 3,
    "start_time": "2024-02-14T09:53:53.495Z"
   },
   {
    "duration": 165,
    "start_time": "2024-02-14T09:53:53.500Z"
   },
   {
    "duration": 4,
    "start_time": "2024-02-14T09:53:53.666Z"
   },
   {
    "duration": 347,
    "start_time": "2024-02-14T09:53:53.671Z"
   },
   {
    "duration": 9,
    "start_time": "2024-02-14T09:53:54.020Z"
   },
   {
    "duration": 43,
    "start_time": "2024-02-14T09:53:54.031Z"
   },
   {
    "duration": 12,
    "start_time": "2024-02-14T09:53:54.076Z"
   },
   {
    "duration": 66,
    "start_time": "2024-02-14T20:06:08.380Z"
   },
   {
    "duration": 58,
    "start_time": "2024-02-14T20:13:50.486Z"
   },
   {
    "duration": 1331,
    "start_time": "2024-02-14T20:13:57.824Z"
   },
   {
    "duration": 68,
    "start_time": "2024-02-14T20:13:59.157Z"
   },
   {
    "duration": 11,
    "start_time": "2024-02-14T20:13:59.226Z"
   },
   {
    "duration": 25,
    "start_time": "2024-02-14T20:13:59.239Z"
   },
   {
    "duration": 175,
    "start_time": "2024-02-14T20:13:59.265Z"
   },
   {
    "duration": 12,
    "start_time": "2024-02-14T20:13:59.442Z"
   },
   {
    "duration": 176,
    "start_time": "2024-02-14T20:13:59.455Z"
   },
   {
    "duration": 145,
    "start_time": "2024-02-14T20:13:59.632Z"
   },
   {
    "duration": 0,
    "start_time": "2024-02-14T20:13:59.779Z"
   },
   {
    "duration": 0,
    "start_time": "2024-02-14T20:13:59.780Z"
   },
   {
    "duration": 0,
    "start_time": "2024-02-14T20:13:59.781Z"
   },
   {
    "duration": 0,
    "start_time": "2024-02-14T20:13:59.783Z"
   },
   {
    "duration": 0,
    "start_time": "2024-02-14T20:13:59.783Z"
   },
   {
    "duration": 0,
    "start_time": "2024-02-14T20:13:59.785Z"
   },
   {
    "duration": 0,
    "start_time": "2024-02-14T20:13:59.786Z"
   },
   {
    "duration": 0,
    "start_time": "2024-02-14T20:13:59.787Z"
   },
   {
    "duration": 0,
    "start_time": "2024-02-14T20:13:59.789Z"
   },
   {
    "duration": 0,
    "start_time": "2024-02-14T20:13:59.790Z"
   },
   {
    "duration": 0,
    "start_time": "2024-02-14T20:13:59.791Z"
   },
   {
    "duration": 0,
    "start_time": "2024-02-14T20:13:59.792Z"
   },
   {
    "duration": 0,
    "start_time": "2024-02-14T20:13:59.793Z"
   },
   {
    "duration": 0,
    "start_time": "2024-02-14T20:13:59.794Z"
   },
   {
    "duration": 0,
    "start_time": "2024-02-14T20:13:59.823Z"
   },
   {
    "duration": 0,
    "start_time": "2024-02-14T20:13:59.825Z"
   },
   {
    "duration": 0,
    "start_time": "2024-02-14T20:13:59.826Z"
   },
   {
    "duration": 0,
    "start_time": "2024-02-14T20:13:59.828Z"
   },
   {
    "duration": 0,
    "start_time": "2024-02-14T20:13:59.829Z"
   },
   {
    "duration": 0,
    "start_time": "2024-02-14T20:13:59.830Z"
   },
   {
    "duration": 0,
    "start_time": "2024-02-14T20:13:59.831Z"
   },
   {
    "duration": 0,
    "start_time": "2024-02-14T20:13:59.832Z"
   },
   {
    "duration": 0,
    "start_time": "2024-02-14T20:13:59.833Z"
   },
   {
    "duration": 0,
    "start_time": "2024-02-14T20:13:59.835Z"
   },
   {
    "duration": 1,
    "start_time": "2024-02-14T20:13:59.835Z"
   },
   {
    "duration": 0,
    "start_time": "2024-02-14T20:13:59.836Z"
   },
   {
    "duration": 0,
    "start_time": "2024-02-14T20:13:59.837Z"
   },
   {
    "duration": 0,
    "start_time": "2024-02-14T20:13:59.839Z"
   },
   {
    "duration": 14,
    "start_time": "2024-02-14T20:20:41.319Z"
   },
   {
    "duration": 25,
    "start_time": "2024-02-14T20:21:25.960Z"
   },
   {
    "duration": 11,
    "start_time": "2024-02-14T20:24:05.653Z"
   },
   {
    "duration": 13,
    "start_time": "2024-02-14T20:24:59.547Z"
   },
   {
    "duration": 301,
    "start_time": "2024-02-14T20:25:33.644Z"
   },
   {
    "duration": 12,
    "start_time": "2024-02-14T20:29:08.626Z"
   },
   {
    "duration": 881,
    "start_time": "2024-02-14T20:30:42.219Z"
   },
   {
    "duration": 11,
    "start_time": "2024-02-14T20:30:53.967Z"
   },
   {
    "duration": 10,
    "start_time": "2024-02-14T20:34:22.534Z"
   },
   {
    "duration": 12,
    "start_time": "2024-02-14T20:34:30.447Z"
   },
   {
    "duration": 11,
    "start_time": "2024-02-14T20:35:23.184Z"
   },
   {
    "duration": 10,
    "start_time": "2024-02-14T20:36:15.181Z"
   },
   {
    "duration": 20,
    "start_time": "2024-02-14T20:36:46.454Z"
   },
   {
    "duration": 18,
    "start_time": "2024-02-14T20:36:59.655Z"
   },
   {
    "duration": 11,
    "start_time": "2024-02-14T20:37:54.907Z"
   },
   {
    "duration": 16,
    "start_time": "2024-02-14T20:38:02.738Z"
   },
   {
    "duration": 14,
    "start_time": "2024-02-14T20:38:29.120Z"
   },
   {
    "duration": 15,
    "start_time": "2024-02-14T20:38:45.350Z"
   },
   {
    "duration": 194,
    "start_time": "2024-02-14T20:39:53.777Z"
   },
   {
    "duration": 8,
    "start_time": "2024-02-14T20:44:26.823Z"
   },
   {
    "duration": 1211,
    "start_time": "2024-02-14T20:44:55.069Z"
   },
   {
    "duration": 36,
    "start_time": "2024-02-14T20:44:56.282Z"
   },
   {
    "duration": 11,
    "start_time": "2024-02-14T20:44:56.319Z"
   },
   {
    "duration": 71,
    "start_time": "2024-02-14T20:44:56.332Z"
   },
   {
    "duration": 174,
    "start_time": "2024-02-14T20:44:56.404Z"
   },
   {
    "duration": 17,
    "start_time": "2024-02-14T20:44:56.580Z"
   },
   {
    "duration": 168,
    "start_time": "2024-02-14T20:44:56.599Z"
   },
   {
    "duration": 16,
    "start_time": "2024-02-14T20:44:56.768Z"
   },
   {
    "duration": 88,
    "start_time": "2024-02-14T20:44:56.786Z"
   },
   {
    "duration": 11,
    "start_time": "2024-02-14T20:44:56.877Z"
   },
   {
    "duration": 6,
    "start_time": "2024-02-14T20:44:56.889Z"
   },
   {
    "duration": 12,
    "start_time": "2024-02-14T20:44:56.897Z"
   },
   {
    "duration": 10,
    "start_time": "2024-02-14T20:44:56.910Z"
   },
   {
    "duration": 18,
    "start_time": "2024-02-14T20:44:56.921Z"
   },
   {
    "duration": 5,
    "start_time": "2024-02-14T20:44:56.941Z"
   },
   {
    "duration": 63,
    "start_time": "2024-02-14T20:44:56.948Z"
   },
   {
    "duration": 9,
    "start_time": "2024-02-14T20:44:57.013Z"
   },
   {
    "duration": 31,
    "start_time": "2024-02-14T20:44:57.023Z"
   },
   {
    "duration": 32,
    "start_time": "2024-02-14T20:44:57.056Z"
   },
   {
    "duration": 28,
    "start_time": "2024-02-14T20:44:57.090Z"
   },
   {
    "duration": 8,
    "start_time": "2024-02-14T20:44:57.120Z"
   },
   {
    "duration": 8,
    "start_time": "2024-02-14T20:44:57.129Z"
   },
   {
    "duration": 41,
    "start_time": "2024-02-14T20:44:57.138Z"
   },
   {
    "duration": 577,
    "start_time": "2024-02-14T20:44:57.180Z"
   },
   {
    "duration": 236,
    "start_time": "2024-02-14T20:44:57.759Z"
   },
   {
    "duration": 343,
    "start_time": "2024-02-14T20:44:57.997Z"
   },
   {
    "duration": 232,
    "start_time": "2024-02-14T20:44:58.342Z"
   },
   {
    "duration": 368,
    "start_time": "2024-02-14T20:44:58.577Z"
   },
   {
    "duration": 130,
    "start_time": "2024-02-14T20:44:58.947Z"
   },
   {
    "duration": 145,
    "start_time": "2024-02-14T20:44:59.078Z"
   },
   {
    "duration": 4,
    "start_time": "2024-02-14T20:44:59.224Z"
   },
   {
    "duration": 167,
    "start_time": "2024-02-14T20:44:59.230Z"
   },
   {
    "duration": 4,
    "start_time": "2024-02-14T20:44:59.398Z"
   },
   {
    "duration": 372,
    "start_time": "2024-02-14T20:44:59.403Z"
   },
   {
    "duration": 10,
    "start_time": "2024-02-14T20:44:59.777Z"
   },
   {
    "duration": 48,
    "start_time": "2024-02-14T20:44:59.789Z"
   },
   {
    "duration": 13,
    "start_time": "2024-02-14T20:44:59.838Z"
   },
   {
    "duration": 1229,
    "start_time": "2024-02-14T20:47:31.624Z"
   },
   {
    "duration": 5,
    "start_time": "2024-02-14T20:47:42.734Z"
   },
   {
    "duration": 6,
    "start_time": "2024-02-14T20:48:32.229Z"
   },
   {
    "duration": 4,
    "start_time": "2024-02-14T20:48:42.309Z"
   },
   {
    "duration": 15,
    "start_time": "2024-02-14T20:52:34.991Z"
   },
   {
    "duration": 11,
    "start_time": "2024-02-14T20:53:14.699Z"
   },
   {
    "duration": 87,
    "start_time": "2024-02-14T20:53:21.657Z"
   },
   {
    "duration": 11,
    "start_time": "2024-02-14T20:53:36.713Z"
   },
   {
    "duration": 8,
    "start_time": "2024-02-14T20:53:53.847Z"
   },
   {
    "duration": 10,
    "start_time": "2024-02-14T20:57:59.575Z"
   },
   {
    "duration": 8,
    "start_time": "2024-02-14T20:59:20.195Z"
   },
   {
    "duration": 8,
    "start_time": "2024-02-14T20:59:29.452Z"
   },
   {
    "duration": 9,
    "start_time": "2024-02-14T21:00:58.168Z"
   },
   {
    "duration": 16,
    "start_time": "2024-02-14T21:01:07.742Z"
   },
   {
    "duration": 13,
    "start_time": "2024-02-14T21:01:48.015Z"
   },
   {
    "duration": 15,
    "start_time": "2024-02-14T21:01:50.265Z"
   },
   {
    "duration": 11,
    "start_time": "2024-02-14T21:03:20.933Z"
   },
   {
    "duration": 7,
    "start_time": "2024-02-14T21:05:18.353Z"
   },
   {
    "duration": 6,
    "start_time": "2024-02-14T21:06:33.452Z"
   },
   {
    "duration": 3,
    "start_time": "2024-02-14T21:07:02.371Z"
   },
   {
    "duration": 5,
    "start_time": "2024-02-14T21:12:17.361Z"
   },
   {
    "duration": 110,
    "start_time": "2024-02-14T21:13:01.547Z"
   },
   {
    "duration": 6,
    "start_time": "2024-02-14T21:14:49.171Z"
   },
   {
    "duration": 6,
    "start_time": "2024-02-14T21:14:56.194Z"
   },
   {
    "duration": 8,
    "start_time": "2024-02-14T21:17:13.282Z"
   },
   {
    "duration": 5,
    "start_time": "2024-02-14T21:18:15.805Z"
   },
   {
    "duration": 3,
    "start_time": "2024-02-14T21:19:07.670Z"
   },
   {
    "duration": 5,
    "start_time": "2024-02-14T21:19:14.559Z"
   },
   {
    "duration": 30,
    "start_time": "2024-02-14T21:23:32.614Z"
   },
   {
    "duration": 5,
    "start_time": "2024-02-14T21:28:42.355Z"
   },
   {
    "duration": 13,
    "start_time": "2024-02-14T21:28:50.039Z"
   },
   {
    "duration": 3,
    "start_time": "2024-02-14T21:30:45.386Z"
   },
   {
    "duration": 4,
    "start_time": "2024-02-14T21:30:52.191Z"
   },
   {
    "duration": 14,
    "start_time": "2024-02-14T21:33:29.260Z"
   },
   {
    "duration": 4,
    "start_time": "2024-02-14T21:34:31.231Z"
   },
   {
    "duration": 14,
    "start_time": "2024-02-14T21:36:30.300Z"
   },
   {
    "duration": 10,
    "start_time": "2024-02-14T21:36:58.016Z"
   },
   {
    "duration": 11,
    "start_time": "2024-02-14T21:37:15.125Z"
   },
   {
    "duration": 10,
    "start_time": "2024-02-14T21:37:43.803Z"
   },
   {
    "duration": 47,
    "start_time": "2024-02-15T09:05:22.354Z"
   },
   {
    "duration": 1270,
    "start_time": "2024-02-15T09:05:36.971Z"
   },
   {
    "duration": 78,
    "start_time": "2024-02-15T09:05:38.243Z"
   },
   {
    "duration": 10,
    "start_time": "2024-02-15T09:05:38.323Z"
   },
   {
    "duration": 73,
    "start_time": "2024-02-15T09:05:38.335Z"
   },
   {
    "duration": 155,
    "start_time": "2024-02-15T09:05:38.410Z"
   },
   {
    "duration": 13,
    "start_time": "2024-02-15T09:05:38.567Z"
   },
   {
    "duration": 141,
    "start_time": "2024-02-15T09:05:38.582Z"
   },
   {
    "duration": 16,
    "start_time": "2024-02-15T09:05:38.725Z"
   },
   {
    "duration": 81,
    "start_time": "2024-02-15T09:05:38.742Z"
   },
   {
    "duration": 10,
    "start_time": "2024-02-15T09:05:38.826Z"
   },
   {
    "duration": 20,
    "start_time": "2024-02-15T09:05:38.838Z"
   },
   {
    "duration": 17,
    "start_time": "2024-02-15T09:05:38.860Z"
   },
   {
    "duration": 5,
    "start_time": "2024-02-15T09:05:38.878Z"
   },
   {
    "duration": 4,
    "start_time": "2024-02-15T09:05:38.884Z"
   },
   {
    "duration": 6,
    "start_time": "2024-02-15T09:05:38.889Z"
   },
   {
    "duration": 62,
    "start_time": "2024-02-15T09:05:38.896Z"
   },
   {
    "duration": 10,
    "start_time": "2024-02-15T09:05:38.960Z"
   },
   {
    "duration": 6,
    "start_time": "2024-02-15T09:05:38.972Z"
   },
   {
    "duration": 13,
    "start_time": "2024-02-15T09:05:38.979Z"
   },
   {
    "duration": 6,
    "start_time": "2024-02-15T09:05:38.994Z"
   },
   {
    "duration": 3,
    "start_time": "2024-02-15T09:05:39.002Z"
   },
   {
    "duration": 5,
    "start_time": "2024-02-15T09:05:39.007Z"
   },
   {
    "duration": 15,
    "start_time": "2024-02-15T09:05:39.013Z"
   },
   {
    "duration": 32,
    "start_time": "2024-02-15T09:05:39.029Z"
   },
   {
    "duration": 6,
    "start_time": "2024-02-15T09:05:39.062Z"
   },
   {
    "duration": 4,
    "start_time": "2024-02-15T09:05:39.070Z"
   },
   {
    "duration": 17,
    "start_time": "2024-02-15T09:05:39.075Z"
   },
   {
    "duration": 32,
    "start_time": "2024-02-15T09:05:39.095Z"
   },
   {
    "duration": 525,
    "start_time": "2024-02-15T09:05:39.128Z"
   },
   {
    "duration": 189,
    "start_time": "2024-02-15T09:05:39.658Z"
   },
   {
    "duration": 364,
    "start_time": "2024-02-15T09:05:39.849Z"
   },
   {
    "duration": 217,
    "start_time": "2024-02-15T09:05:40.214Z"
   },
   {
    "duration": 352,
    "start_time": "2024-02-15T09:05:40.432Z"
   },
   {
    "duration": 135,
    "start_time": "2024-02-15T09:05:40.786Z"
   },
   {
    "duration": 145,
    "start_time": "2024-02-15T09:05:40.922Z"
   },
   {
    "duration": 4,
    "start_time": "2024-02-15T09:05:41.069Z"
   },
   {
    "duration": 193,
    "start_time": "2024-02-15T09:05:41.074Z"
   },
   {
    "duration": 5,
    "start_time": "2024-02-15T09:05:41.268Z"
   },
   {
    "duration": 355,
    "start_time": "2024-02-15T09:05:41.274Z"
   },
   {
    "duration": 9,
    "start_time": "2024-02-15T09:05:41.631Z"
   },
   {
    "duration": 46,
    "start_time": "2024-02-15T09:05:41.642Z"
   },
   {
    "duration": 14,
    "start_time": "2024-02-15T09:05:41.690Z"
   },
   {
    "duration": 123,
    "start_time": "2024-02-15T09:06:03.386Z"
   },
   {
    "duration": 119,
    "start_time": "2024-02-15T09:06:18.673Z"
   },
   {
    "duration": 10,
    "start_time": "2024-02-15T09:06:45.664Z"
   },
   {
    "duration": 102,
    "start_time": "2024-02-15T09:07:07.829Z"
   },
   {
    "duration": 115,
    "start_time": "2024-02-15T09:07:18.231Z"
   },
   {
    "duration": 114,
    "start_time": "2024-02-15T09:07:33.984Z"
   },
   {
    "duration": 138,
    "start_time": "2024-02-15T09:07:37.068Z"
   },
   {
    "duration": 4,
    "start_time": "2024-02-15T09:08:36.102Z"
   },
   {
    "duration": 3,
    "start_time": "2024-02-15T09:12:17.522Z"
   },
   {
    "duration": 4,
    "start_time": "2024-02-15T09:12:34.431Z"
   },
   {
    "duration": 77,
    "start_time": "2024-02-15T09:20:09.964Z"
   },
   {
    "duration": 35,
    "start_time": "2024-02-15T09:21:21.213Z"
   },
   {
    "duration": 1139,
    "start_time": "2024-02-15T09:30:40.356Z"
   },
   {
    "duration": 34,
    "start_time": "2024-02-15T09:30:41.498Z"
   },
   {
    "duration": 9,
    "start_time": "2024-02-15T09:30:41.534Z"
   },
   {
    "duration": 71,
    "start_time": "2024-02-15T09:30:41.546Z"
   },
   {
    "duration": 147,
    "start_time": "2024-02-15T09:30:41.619Z"
   },
   {
    "duration": 14,
    "start_time": "2024-02-15T09:30:41.768Z"
   },
   {
    "duration": 138,
    "start_time": "2024-02-15T09:30:41.784Z"
   },
   {
    "duration": 14,
    "start_time": "2024-02-15T09:30:41.923Z"
   },
   {
    "duration": 65,
    "start_time": "2024-02-15T09:30:41.939Z"
   },
   {
    "duration": 9,
    "start_time": "2024-02-15T09:30:42.007Z"
   },
   {
    "duration": 24,
    "start_time": "2024-02-15T09:30:42.018Z"
   },
   {
    "duration": 59,
    "start_time": "2024-02-15T09:30:42.043Z"
   },
   {
    "duration": 24,
    "start_time": "2024-02-15T09:30:42.104Z"
   },
   {
    "duration": 32,
    "start_time": "2024-02-15T09:30:42.130Z"
   },
   {
    "duration": 22,
    "start_time": "2024-02-15T09:30:42.164Z"
   },
   {
    "duration": 44,
    "start_time": "2024-02-15T09:30:42.188Z"
   },
   {
    "duration": 9,
    "start_time": "2024-02-15T09:30:42.234Z"
   },
   {
    "duration": 20,
    "start_time": "2024-02-15T09:30:42.244Z"
   },
   {
    "duration": 38,
    "start_time": "2024-02-15T09:30:42.266Z"
   },
   {
    "duration": 7,
    "start_time": "2024-02-15T09:30:42.306Z"
   },
   {
    "duration": 16,
    "start_time": "2024-02-15T09:30:42.314Z"
   },
   {
    "duration": 26,
    "start_time": "2024-02-15T09:30:42.332Z"
   },
   {
    "duration": 24,
    "start_time": "2024-02-15T09:30:42.360Z"
   },
   {
    "duration": 29,
    "start_time": "2024-02-15T09:30:42.386Z"
   },
   {
    "duration": 27,
    "start_time": "2024-02-15T09:30:42.416Z"
   },
   {
    "duration": 24,
    "start_time": "2024-02-15T09:30:42.445Z"
   },
   {
    "duration": 18,
    "start_time": "2024-02-15T09:30:42.470Z"
   },
   {
    "duration": 27,
    "start_time": "2024-02-15T09:30:42.491Z"
   },
   {
    "duration": 522,
    "start_time": "2024-02-15T09:30:42.520Z"
   },
   {
    "duration": 198,
    "start_time": "2024-02-15T09:30:43.044Z"
   },
   {
    "duration": 318,
    "start_time": "2024-02-15T09:30:43.244Z"
   },
   {
    "duration": 209,
    "start_time": "2024-02-15T09:30:43.563Z"
   },
   {
    "duration": 390,
    "start_time": "2024-02-15T09:30:43.773Z"
   },
   {
    "duration": 129,
    "start_time": "2024-02-15T09:30:44.164Z"
   },
   {
    "duration": 160,
    "start_time": "2024-02-15T09:30:44.295Z"
   },
   {
    "duration": 3,
    "start_time": "2024-02-15T09:30:44.458Z"
   },
   {
    "duration": 151,
    "start_time": "2024-02-15T09:30:44.463Z"
   },
   {
    "duration": 4,
    "start_time": "2024-02-15T09:30:44.615Z"
   },
   {
    "duration": 343,
    "start_time": "2024-02-15T09:30:44.621Z"
   },
   {
    "duration": 10,
    "start_time": "2024-02-15T09:30:44.966Z"
   },
   {
    "duration": 40,
    "start_time": "2024-02-15T09:30:44.977Z"
   },
   {
    "duration": 44,
    "start_time": "2024-02-15T09:30:45.019Z"
   },
   {
    "duration": 279,
    "start_time": "2024-02-15T09:39:20.815Z"
   },
   {
    "duration": 1094,
    "start_time": "2024-02-15T09:42:02.903Z"
   },
   {
    "duration": 35,
    "start_time": "2024-02-15T09:42:03.999Z"
   },
   {
    "duration": 11,
    "start_time": "2024-02-15T09:42:04.035Z"
   },
   {
    "duration": 63,
    "start_time": "2024-02-15T09:42:04.048Z"
   },
   {
    "duration": 157,
    "start_time": "2024-02-15T09:42:04.113Z"
   },
   {
    "duration": 15,
    "start_time": "2024-02-15T09:42:04.271Z"
   },
   {
    "duration": 144,
    "start_time": "2024-02-15T09:42:04.287Z"
   },
   {
    "duration": 14,
    "start_time": "2024-02-15T09:42:04.432Z"
   },
   {
    "duration": 41,
    "start_time": "2024-02-15T09:42:04.447Z"
   },
   {
    "duration": 9,
    "start_time": "2024-02-15T09:42:04.489Z"
   },
   {
    "duration": 5,
    "start_time": "2024-02-15T09:42:04.499Z"
   },
   {
    "duration": 10,
    "start_time": "2024-02-15T09:42:04.505Z"
   },
   {
    "duration": 11,
    "start_time": "2024-02-15T09:42:04.517Z"
   },
   {
    "duration": 4,
    "start_time": "2024-02-15T09:42:04.531Z"
   },
   {
    "duration": 6,
    "start_time": "2024-02-15T09:42:04.536Z"
   },
   {
    "duration": 25,
    "start_time": "2024-02-15T09:42:04.544Z"
   },
   {
    "duration": 9,
    "start_time": "2024-02-15T09:42:04.570Z"
   },
   {
    "duration": 8,
    "start_time": "2024-02-15T09:42:04.580Z"
   },
   {
    "duration": 12,
    "start_time": "2024-02-15T09:42:04.589Z"
   },
   {
    "duration": 12,
    "start_time": "2024-02-15T09:42:04.602Z"
   },
   {
    "duration": 5,
    "start_time": "2024-02-15T09:42:04.615Z"
   },
   {
    "duration": 5,
    "start_time": "2024-02-15T09:42:04.621Z"
   },
   {
    "duration": 8,
    "start_time": "2024-02-15T09:42:04.628Z"
   },
   {
    "duration": 6,
    "start_time": "2024-02-15T09:42:04.637Z"
   },
   {
    "duration": 5,
    "start_time": "2024-02-15T09:42:04.644Z"
   },
   {
    "duration": 2,
    "start_time": "2024-02-15T09:42:04.651Z"
   },
   {
    "duration": 12,
    "start_time": "2024-02-15T09:42:04.654Z"
   },
   {
    "duration": 8,
    "start_time": "2024-02-15T09:42:04.667Z"
   },
   {
    "duration": 637,
    "start_time": "2024-02-15T09:42:04.677Z"
   },
   {
    "duration": 219,
    "start_time": "2024-02-15T09:42:05.316Z"
   },
   {
    "duration": 326,
    "start_time": "2024-02-15T09:42:05.536Z"
   },
   {
    "duration": 220,
    "start_time": "2024-02-15T09:42:05.863Z"
   },
   {
    "duration": 383,
    "start_time": "2024-02-15T09:42:06.085Z"
   },
   {
    "duration": 135,
    "start_time": "2024-02-15T09:42:06.470Z"
   },
   {
    "duration": 156,
    "start_time": "2024-02-15T09:42:06.606Z"
   },
   {
    "duration": 4,
    "start_time": "2024-02-15T09:42:06.763Z"
   },
   {
    "duration": 146,
    "start_time": "2024-02-15T09:42:06.768Z"
   },
   {
    "duration": 4,
    "start_time": "2024-02-15T09:42:06.916Z"
   },
   {
    "duration": 364,
    "start_time": "2024-02-15T09:42:06.922Z"
   },
   {
    "duration": 12,
    "start_time": "2024-02-15T09:42:07.288Z"
   },
   {
    "duration": 39,
    "start_time": "2024-02-15T09:42:07.304Z"
   },
   {
    "duration": 25,
    "start_time": "2024-02-15T09:42:07.345Z"
   },
   {
    "duration": 1098,
    "start_time": "2024-02-15T13:13:24.763Z"
   },
   {
    "duration": 35,
    "start_time": "2024-02-15T13:13:25.863Z"
   },
   {
    "duration": 9,
    "start_time": "2024-02-15T13:13:25.900Z"
   },
   {
    "duration": 47,
    "start_time": "2024-02-15T13:13:25.911Z"
   },
   {
    "duration": 168,
    "start_time": "2024-02-15T13:13:25.960Z"
   },
   {
    "duration": 15,
    "start_time": "2024-02-15T13:13:26.130Z"
   },
   {
    "duration": 150,
    "start_time": "2024-02-15T13:13:26.147Z"
   },
   {
    "duration": 23,
    "start_time": "2024-02-15T13:13:26.299Z"
   },
   {
    "duration": 48,
    "start_time": "2024-02-15T13:13:26.323Z"
   },
   {
    "duration": 10,
    "start_time": "2024-02-15T13:13:26.373Z"
   },
   {
    "duration": 7,
    "start_time": "2024-02-15T13:13:26.384Z"
   },
   {
    "duration": 12,
    "start_time": "2024-02-15T13:13:26.392Z"
   },
   {
    "duration": 12,
    "start_time": "2024-02-15T13:13:26.405Z"
   },
   {
    "duration": 3,
    "start_time": "2024-02-15T13:13:26.419Z"
   },
   {
    "duration": 6,
    "start_time": "2024-02-15T13:13:26.423Z"
   },
   {
    "duration": 20,
    "start_time": "2024-02-15T13:13:26.430Z"
   },
   {
    "duration": 9,
    "start_time": "2024-02-15T13:13:26.451Z"
   },
   {
    "duration": 7,
    "start_time": "2024-02-15T13:13:26.462Z"
   },
   {
    "duration": 11,
    "start_time": "2024-02-15T13:13:26.471Z"
   },
   {
    "duration": 7,
    "start_time": "2024-02-15T13:13:26.483Z"
   },
   {
    "duration": 25,
    "start_time": "2024-02-15T13:13:26.491Z"
   },
   {
    "duration": 6,
    "start_time": "2024-02-15T13:13:26.517Z"
   },
   {
    "duration": 11,
    "start_time": "2024-02-15T13:13:26.524Z"
   },
   {
    "duration": 6,
    "start_time": "2024-02-15T13:13:26.537Z"
   },
   {
    "duration": 14,
    "start_time": "2024-02-15T13:13:26.545Z"
   },
   {
    "duration": 10,
    "start_time": "2024-02-15T13:13:26.561Z"
   },
   {
    "duration": 13,
    "start_time": "2024-02-15T13:13:26.572Z"
   },
   {
    "duration": 30,
    "start_time": "2024-02-15T13:13:26.588Z"
   },
   {
    "duration": 541,
    "start_time": "2024-02-15T13:13:26.620Z"
   },
   {
    "duration": 213,
    "start_time": "2024-02-15T13:13:27.163Z"
   },
   {
    "duration": 330,
    "start_time": "2024-02-15T13:13:27.378Z"
   },
   {
    "duration": 231,
    "start_time": "2024-02-15T13:13:27.710Z"
   },
   {
    "duration": 388,
    "start_time": "2024-02-15T13:13:27.943Z"
   },
   {
    "duration": 137,
    "start_time": "2024-02-15T13:13:28.333Z"
   },
   {
    "duration": 163,
    "start_time": "2024-02-15T13:13:28.472Z"
   },
   {
    "duration": 5,
    "start_time": "2024-02-15T13:13:28.636Z"
   },
   {
    "duration": 172,
    "start_time": "2024-02-15T13:13:28.642Z"
   },
   {
    "duration": 4,
    "start_time": "2024-02-15T13:13:28.816Z"
   },
   {
    "duration": 364,
    "start_time": "2024-02-15T13:13:28.822Z"
   },
   {
    "duration": 9,
    "start_time": "2024-02-15T13:13:29.188Z"
   },
   {
    "duration": 40,
    "start_time": "2024-02-15T13:13:29.198Z"
   },
   {
    "duration": 12,
    "start_time": "2024-02-15T13:13:29.240Z"
   },
   {
    "duration": 59,
    "start_time": "2024-05-16T07:57:43.472Z"
   },
   {
    "duration": 1388,
    "start_time": "2024-05-16T07:58:43.254Z"
   },
   {
    "duration": 87,
    "start_time": "2024-05-16T07:58:44.645Z"
   },
   {
    "duration": 15,
    "start_time": "2024-05-16T07:58:44.733Z"
   },
   {
    "duration": 81,
    "start_time": "2024-05-16T07:58:44.750Z"
   },
   {
    "duration": 181,
    "start_time": "2024-05-16T07:58:44.833Z"
   },
   {
    "duration": 99,
    "start_time": "2024-05-16T07:58:45.016Z"
   },
   {
    "duration": 11,
    "start_time": "2024-05-16T07:58:45.117Z"
   },
   {
    "duration": 57,
    "start_time": "2024-05-16T07:58:45.129Z"
   },
   {
    "duration": 57,
    "start_time": "2024-05-16T07:58:45.188Z"
   },
   {
    "duration": 44,
    "start_time": "2024-05-16T07:58:45.248Z"
   },
   {
    "duration": 73,
    "start_time": "2024-05-16T07:58:45.293Z"
   },
   {
    "duration": 33,
    "start_time": "2024-05-16T07:58:45.367Z"
   },
   {
    "duration": 90,
    "start_time": "2024-05-16T07:58:45.402Z"
   },
   {
    "duration": 10,
    "start_time": "2024-05-16T07:58:45.494Z"
   },
   {
    "duration": 30,
    "start_time": "2024-05-16T07:58:45.506Z"
   },
   {
    "duration": 16,
    "start_time": "2024-05-16T07:58:45.538Z"
   },
   {
    "duration": 22,
    "start_time": "2024-05-16T07:58:45.555Z"
   },
   {
    "duration": 19,
    "start_time": "2024-05-16T07:58:45.579Z"
   },
   {
    "duration": 12,
    "start_time": "2024-05-16T07:58:45.600Z"
   },
   {
    "duration": 25,
    "start_time": "2024-05-16T07:58:45.614Z"
   },
   {
    "duration": 16,
    "start_time": "2024-05-16T07:58:45.641Z"
   },
   {
    "duration": 15,
    "start_time": "2024-05-16T07:58:45.659Z"
   },
   {
    "duration": 16,
    "start_time": "2024-05-16T07:58:45.676Z"
   },
   {
    "duration": 15,
    "start_time": "2024-05-16T07:58:45.694Z"
   },
   {
    "duration": 23,
    "start_time": "2024-05-16T07:58:45.711Z"
   },
   {
    "duration": 619,
    "start_time": "2024-05-16T07:58:45.736Z"
   },
   {
    "duration": 241,
    "start_time": "2024-05-16T07:58:46.357Z"
   },
   {
    "duration": 416,
    "start_time": "2024-05-16T07:58:46.601Z"
   },
   {
    "duration": 252,
    "start_time": "2024-05-16T07:58:47.019Z"
   },
   {
    "duration": 56,
    "start_time": "2024-05-16T07:58:47.273Z"
   },
   {
    "duration": 0,
    "start_time": "2024-05-16T07:58:47.330Z"
   },
   {
    "duration": 0,
    "start_time": "2024-05-16T07:58:47.332Z"
   },
   {
    "duration": 0,
    "start_time": "2024-05-16T07:58:47.333Z"
   },
   {
    "duration": 0,
    "start_time": "2024-05-16T07:58:47.334Z"
   },
   {
    "duration": 0,
    "start_time": "2024-05-16T07:58:47.335Z"
   },
   {
    "duration": 0,
    "start_time": "2024-05-16T07:58:47.337Z"
   },
   {
    "duration": 0,
    "start_time": "2024-05-16T07:58:47.338Z"
   },
   {
    "duration": 0,
    "start_time": "2024-05-16T07:58:47.339Z"
   },
   {
    "duration": 0,
    "start_time": "2024-05-16T07:58:47.340Z"
   },
   {
    "duration": 335,
    "start_time": "2024-05-16T07:59:26.627Z"
   },
   {
    "duration": 1140,
    "start_time": "2024-05-16T07:59:31.683Z"
   },
   {
    "duration": 42,
    "start_time": "2024-05-16T07:59:32.826Z"
   },
   {
    "duration": 12,
    "start_time": "2024-05-16T07:59:32.869Z"
   },
   {
    "duration": 92,
    "start_time": "2024-05-16T07:59:32.883Z"
   },
   {
    "duration": 172,
    "start_time": "2024-05-16T07:59:32.977Z"
   },
   {
    "duration": 44,
    "start_time": "2024-05-16T07:59:33.151Z"
   },
   {
    "duration": 11,
    "start_time": "2024-05-16T07:59:33.197Z"
   },
   {
    "duration": 49,
    "start_time": "2024-05-16T07:59:33.210Z"
   },
   {
    "duration": 131,
    "start_time": "2024-05-16T07:59:33.261Z"
   },
   {
    "duration": 63,
    "start_time": "2024-05-16T07:59:33.395Z"
   },
   {
    "duration": 62,
    "start_time": "2024-05-16T07:59:33.460Z"
   },
   {
    "duration": 29,
    "start_time": "2024-05-16T07:59:33.524Z"
   },
   {
    "duration": 30,
    "start_time": "2024-05-16T07:59:33.554Z"
   },
   {
    "duration": 9,
    "start_time": "2024-05-16T07:59:33.586Z"
   },
   {
    "duration": 12,
    "start_time": "2024-05-16T07:59:33.596Z"
   },
   {
    "duration": 18,
    "start_time": "2024-05-16T07:59:33.609Z"
   },
   {
    "duration": 8,
    "start_time": "2024-05-16T07:59:33.629Z"
   },
   {
    "duration": 15,
    "start_time": "2024-05-16T07:59:33.638Z"
   },
   {
    "duration": 15,
    "start_time": "2024-05-16T07:59:33.655Z"
   },
   {
    "duration": 28,
    "start_time": "2024-05-16T07:59:33.671Z"
   },
   {
    "duration": 21,
    "start_time": "2024-05-16T07:59:33.701Z"
   },
   {
    "duration": 10,
    "start_time": "2024-05-16T07:59:33.723Z"
   },
   {
    "duration": 21,
    "start_time": "2024-05-16T07:59:33.734Z"
   },
   {
    "duration": 14,
    "start_time": "2024-05-16T07:59:33.756Z"
   },
   {
    "duration": 20,
    "start_time": "2024-05-16T07:59:33.771Z"
   },
   {
    "duration": 619,
    "start_time": "2024-05-16T07:59:33.830Z"
   },
   {
    "duration": 259,
    "start_time": "2024-05-16T07:59:34.451Z"
   },
   {
    "duration": 366,
    "start_time": "2024-05-16T07:59:34.713Z"
   },
   {
    "duration": 250,
    "start_time": "2024-05-16T07:59:35.081Z"
   },
   {
    "duration": 351,
    "start_time": "2024-05-16T07:59:35.333Z"
   },
   {
    "duration": 162,
    "start_time": "2024-05-16T07:59:35.685Z"
   },
   {
    "duration": 315,
    "start_time": "2024-05-16T07:59:35.849Z"
   },
   {
    "duration": 4,
    "start_time": "2024-05-16T07:59:36.166Z"
   },
   {
    "duration": 175,
    "start_time": "2024-05-16T07:59:36.172Z"
   },
   {
    "duration": 3,
    "start_time": "2024-05-16T07:59:36.349Z"
   },
   {
    "duration": 408,
    "start_time": "2024-05-16T07:59:36.354Z"
   },
   {
    "duration": 11,
    "start_time": "2024-05-16T07:59:36.764Z"
   },
   {
    "duration": 76,
    "start_time": "2024-05-16T07:59:36.776Z"
   },
   {
    "duration": 18,
    "start_time": "2024-05-16T07:59:36.853Z"
   },
   {
    "duration": 1227,
    "start_time": "2024-05-22T07:01:39.365Z"
   },
   {
    "duration": 78,
    "start_time": "2024-05-22T07:01:40.593Z"
   },
   {
    "duration": 10,
    "start_time": "2024-05-22T07:01:40.672Z"
   },
   {
    "duration": 51,
    "start_time": "2024-05-22T07:01:40.684Z"
   },
   {
    "duration": 143,
    "start_time": "2024-05-22T07:01:40.736Z"
   },
   {
    "duration": 93,
    "start_time": "2024-05-22T07:01:40.881Z"
   },
   {
    "duration": 8,
    "start_time": "2024-05-22T07:01:40.976Z"
   },
   {
    "duration": 8,
    "start_time": "2024-05-22T07:01:40.985Z"
   },
   {
    "duration": 13,
    "start_time": "2024-05-22T07:01:40.994Z"
   },
   {
    "duration": 4,
    "start_time": "2024-05-22T07:01:41.010Z"
   },
   {
    "duration": 5,
    "start_time": "2024-05-22T07:01:41.016Z"
   },
   {
    "duration": 10,
    "start_time": "2024-05-22T07:01:41.022Z"
   },
   {
    "duration": 76,
    "start_time": "2024-05-22T07:01:41.033Z"
   },
   {
    "duration": 10,
    "start_time": "2024-05-22T07:01:41.110Z"
   },
   {
    "duration": 8,
    "start_time": "2024-05-22T07:01:41.121Z"
   },
   {
    "duration": 11,
    "start_time": "2024-05-22T07:01:41.130Z"
   },
   {
    "duration": 6,
    "start_time": "2024-05-22T07:01:41.143Z"
   },
   {
    "duration": 11,
    "start_time": "2024-05-22T07:01:41.150Z"
   },
   {
    "duration": 14,
    "start_time": "2024-05-22T07:01:41.162Z"
   },
   {
    "duration": 12,
    "start_time": "2024-05-22T07:01:41.178Z"
   },
   {
    "duration": 6,
    "start_time": "2024-05-22T07:01:41.191Z"
   },
   {
    "duration": 16,
    "start_time": "2024-05-22T07:01:41.199Z"
   },
   {
    "duration": 4,
    "start_time": "2024-05-22T07:01:41.217Z"
   },
   {
    "duration": 13,
    "start_time": "2024-05-22T07:01:41.222Z"
   },
   {
    "duration": 8,
    "start_time": "2024-05-22T07:01:41.236Z"
   },
   {
    "duration": 534,
    "start_time": "2024-05-22T07:01:41.246Z"
   },
   {
    "duration": 189,
    "start_time": "2024-05-22T07:01:41.782Z"
   },
   {
    "duration": 377,
    "start_time": "2024-05-22T07:01:41.975Z"
   },
   {
    "duration": 222,
    "start_time": "2024-05-22T07:01:42.353Z"
   },
   {
    "duration": 307,
    "start_time": "2024-05-22T07:01:42.576Z"
   },
   {
    "duration": 134,
    "start_time": "2024-05-22T07:01:42.885Z"
   },
   {
    "duration": 199,
    "start_time": "2024-05-22T07:01:43.021Z"
   },
   {
    "duration": 4,
    "start_time": "2024-05-22T07:01:43.222Z"
   },
   {
    "duration": 143,
    "start_time": "2024-05-22T07:01:43.227Z"
   },
   {
    "duration": 4,
    "start_time": "2024-05-22T07:01:43.371Z"
   },
   {
    "duration": 357,
    "start_time": "2024-05-22T07:01:43.376Z"
   },
   {
    "duration": 9,
    "start_time": "2024-05-22T07:01:43.734Z"
   },
   {
    "duration": 31,
    "start_time": "2024-05-22T07:01:43.744Z"
   },
   {
    "duration": 14,
    "start_time": "2024-05-22T07:01:43.776Z"
   }
  ],
  "kernelspec": {
   "display_name": "Python 3 (ipykernel)",
   "language": "python",
   "name": "python3"
  },
  "language_info": {
   "codemirror_mode": {
    "name": "ipython",
    "version": 3
   },
   "file_extension": ".py",
   "mimetype": "text/x-python",
   "name": "python",
   "nbconvert_exporter": "python",
   "pygments_lexer": "ipython3",
   "version": "3.9.5"
  },
  "toc": {
   "base_numbering": 1,
   "nav_menu": {},
   "number_sections": true,
   "sideBar": true,
   "skip_h1_title": true,
   "title_cell": "Table of Contents",
   "title_sidebar": "Contents",
   "toc_cell": false,
   "toc_position": {
    "height": "calc(100% - 180px)",
    "left": "10px",
    "top": "150px",
    "width": "593.797px"
   },
   "toc_section_display": true,
   "toc_window_display": true
  }
 },
 "nbformat": 4,
 "nbformat_minor": 2
}
